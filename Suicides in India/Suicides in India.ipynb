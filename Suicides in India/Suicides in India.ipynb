{
 "cells": [
  {
   "cell_type": "code",
   "execution_count": 1,
   "id": "8ef5c8cf",
   "metadata": {},
   "outputs": [],
   "source": [
    "#IMPORT PACKAGES\n",
    "import numpy as np\n",
    "import pandas as pd\n",
    "import matplotlib.pyplot as plt"
   ]
  },
  {
   "cell_type": "code",
   "execution_count": 2,
   "id": "7280ea28",
   "metadata": {
    "scrolled": true
   },
   "outputs": [
    {
     "data": {
      "text/html": [
       "<div>\n",
       "<style scoped>\n",
       "    .dataframe tbody tr th:only-of-type {\n",
       "        vertical-align: middle;\n",
       "    }\n",
       "\n",
       "    .dataframe tbody tr th {\n",
       "        vertical-align: top;\n",
       "    }\n",
       "\n",
       "    .dataframe thead th {\n",
       "        text-align: right;\n",
       "    }\n",
       "</style>\n",
       "<table border=\"1\" class=\"dataframe\">\n",
       "  <thead>\n",
       "    <tr style=\"text-align: right;\">\n",
       "      <th></th>\n",
       "      <th>State</th>\n",
       "      <th>Year</th>\n",
       "      <th>Type_code</th>\n",
       "      <th>Type</th>\n",
       "      <th>Gender</th>\n",
       "      <th>Age_group</th>\n",
       "      <th>Total</th>\n",
       "    </tr>\n",
       "  </thead>\n",
       "  <tbody>\n",
       "    <tr>\n",
       "      <th>0</th>\n",
       "      <td>A &amp; N Islands</td>\n",
       "      <td>2001</td>\n",
       "      <td>Causes</td>\n",
       "      <td>Illness (Aids/STD)</td>\n",
       "      <td>Female</td>\n",
       "      <td>0-14</td>\n",
       "      <td>0</td>\n",
       "    </tr>\n",
       "    <tr>\n",
       "      <th>1</th>\n",
       "      <td>A &amp; N Islands</td>\n",
       "      <td>2001</td>\n",
       "      <td>Causes</td>\n",
       "      <td>Bankruptcy or Sudden change in Economic</td>\n",
       "      <td>Female</td>\n",
       "      <td>0-14</td>\n",
       "      <td>0</td>\n",
       "    </tr>\n",
       "    <tr>\n",
       "      <th>2</th>\n",
       "      <td>A &amp; N Islands</td>\n",
       "      <td>2001</td>\n",
       "      <td>Causes</td>\n",
       "      <td>Cancellation/Non-Settlement of Marriage</td>\n",
       "      <td>Female</td>\n",
       "      <td>0-14</td>\n",
       "      <td>0</td>\n",
       "    </tr>\n",
       "    <tr>\n",
       "      <th>3</th>\n",
       "      <td>A &amp; N Islands</td>\n",
       "      <td>2001</td>\n",
       "      <td>Causes</td>\n",
       "      <td>Physical Abuse (Rape/Incest Etc.)</td>\n",
       "      <td>Female</td>\n",
       "      <td>0-14</td>\n",
       "      <td>0</td>\n",
       "    </tr>\n",
       "    <tr>\n",
       "      <th>4</th>\n",
       "      <td>A &amp; N Islands</td>\n",
       "      <td>2001</td>\n",
       "      <td>Causes</td>\n",
       "      <td>Dowry Dispute</td>\n",
       "      <td>Female</td>\n",
       "      <td>0-14</td>\n",
       "      <td>0</td>\n",
       "    </tr>\n",
       "    <tr>\n",
       "      <th>...</th>\n",
       "      <td>...</td>\n",
       "      <td>...</td>\n",
       "      <td>...</td>\n",
       "      <td>...</td>\n",
       "      <td>...</td>\n",
       "      <td>...</td>\n",
       "      <td>...</td>\n",
       "    </tr>\n",
       "    <tr>\n",
       "      <th>237514</th>\n",
       "      <td>West Bengal</td>\n",
       "      <td>2012</td>\n",
       "      <td>Social_Status</td>\n",
       "      <td>Seperated</td>\n",
       "      <td>Male</td>\n",
       "      <td>0-100+</td>\n",
       "      <td>149</td>\n",
       "    </tr>\n",
       "    <tr>\n",
       "      <th>237515</th>\n",
       "      <td>West Bengal</td>\n",
       "      <td>2012</td>\n",
       "      <td>Social_Status</td>\n",
       "      <td>Widowed/Widower</td>\n",
       "      <td>Male</td>\n",
       "      <td>0-100+</td>\n",
       "      <td>233</td>\n",
       "    </tr>\n",
       "    <tr>\n",
       "      <th>237516</th>\n",
       "      <td>West Bengal</td>\n",
       "      <td>2012</td>\n",
       "      <td>Social_Status</td>\n",
       "      <td>Married</td>\n",
       "      <td>Male</td>\n",
       "      <td>0-100+</td>\n",
       "      <td>5451</td>\n",
       "    </tr>\n",
       "    <tr>\n",
       "      <th>237517</th>\n",
       "      <td>West Bengal</td>\n",
       "      <td>2012</td>\n",
       "      <td>Social_Status</td>\n",
       "      <td>Divorcee</td>\n",
       "      <td>Male</td>\n",
       "      <td>0-100+</td>\n",
       "      <td>189</td>\n",
       "    </tr>\n",
       "    <tr>\n",
       "      <th>237518</th>\n",
       "      <td>West Bengal</td>\n",
       "      <td>2012</td>\n",
       "      <td>Social_Status</td>\n",
       "      <td>Never Married</td>\n",
       "      <td>Male</td>\n",
       "      <td>0-100+</td>\n",
       "      <td>2658</td>\n",
       "    </tr>\n",
       "  </tbody>\n",
       "</table>\n",
       "<p>237519 rows × 7 columns</p>\n",
       "</div>"
      ],
      "text/plain": [
       "                State  Year      Type_code  \\\n",
       "0       A & N Islands  2001         Causes   \n",
       "1       A & N Islands  2001         Causes   \n",
       "2       A & N Islands  2001         Causes   \n",
       "3       A & N Islands  2001         Causes   \n",
       "4       A & N Islands  2001         Causes   \n",
       "...               ...   ...            ...   \n",
       "237514    West Bengal  2012  Social_Status   \n",
       "237515    West Bengal  2012  Social_Status   \n",
       "237516    West Bengal  2012  Social_Status   \n",
       "237517    West Bengal  2012  Social_Status   \n",
       "237518    West Bengal  2012  Social_Status   \n",
       "\n",
       "                                           Type  Gender Age_group  Total  \n",
       "0                            Illness (Aids/STD)  Female      0-14      0  \n",
       "1       Bankruptcy or Sudden change in Economic  Female      0-14      0  \n",
       "2       Cancellation/Non-Settlement of Marriage  Female      0-14      0  \n",
       "3             Physical Abuse (Rape/Incest Etc.)  Female      0-14      0  \n",
       "4                                 Dowry Dispute  Female      0-14      0  \n",
       "...                                         ...     ...       ...    ...  \n",
       "237514                                Seperated    Male    0-100+    149  \n",
       "237515                          Widowed/Widower    Male    0-100+    233  \n",
       "237516                                  Married    Male    0-100+   5451  \n",
       "237517                                 Divorcee    Male    0-100+    189  \n",
       "237518                            Never Married    Male    0-100+   2658  \n",
       "\n",
       "[237519 rows x 7 columns]"
      ]
     },
     "execution_count": 2,
     "metadata": {},
     "output_type": "execute_result"
    }
   ],
   "source": [
    "#READ CSV FILE\n",
    "df = pd.read_csv(\"datasets/Suicides in India 2001-2012.csv\")\n",
    "df"
   ]
  },
  {
   "cell_type": "markdown",
   "id": "c814642c",
   "metadata": {},
   "source": [
    "<h3>Analyzing Available Data</h3>"
   ]
  },
  {
   "cell_type": "code",
   "execution_count": 3,
   "id": "b98ab742",
   "metadata": {},
   "outputs": [
    {
     "name": "stdout",
     "output_type": "stream",
     "text": [
      "<class 'pandas.core.frame.DataFrame'>\n",
      "RangeIndex: 237519 entries, 0 to 237518\n",
      "Data columns (total 7 columns):\n",
      " #   Column     Non-Null Count   Dtype \n",
      "---  ------     --------------   ----- \n",
      " 0   State      237519 non-null  object\n",
      " 1   Year       237519 non-null  int64 \n",
      " 2   Type_code  237519 non-null  object\n",
      " 3   Type       237519 non-null  object\n",
      " 4   Gender     237519 non-null  object\n",
      " 5   Age_group  237519 non-null  object\n",
      " 6   Total      237519 non-null  int64 \n",
      "dtypes: int64(2), object(5)\n",
      "memory usage: 12.7+ MB\n"
     ]
    }
   ],
   "source": [
    "df.info()"
   ]
  },
  {
   "cell_type": "code",
   "execution_count": 4,
   "id": "d4b6efdb",
   "metadata": {},
   "outputs": [
    {
     "data": {
      "text/plain": [
       "State        0\n",
       "Year         0\n",
       "Type_code    0\n",
       "Type         0\n",
       "Gender       0\n",
       "Age_group    0\n",
       "Total        0\n",
       "dtype: int64"
      ]
     },
     "execution_count": 4,
     "metadata": {},
     "output_type": "execute_result"
    }
   ],
   "source": [
    "#INFO shows there are no null values and data is clean.\n",
    "#To Verify\n",
    "df.isnull().sum()"
   ]
  },
  {
   "cell_type": "code",
   "execution_count": 5,
   "id": "4765d2a1",
   "metadata": {},
   "outputs": [
    {
     "data": {
      "text/plain": [
       "13071734"
      ]
     },
     "execution_count": 5,
     "metadata": {},
     "output_type": "execute_result"
    }
   ],
   "source": [
    "#Total suicides in India until 2012\n",
    "df['Total'].sum()"
   ]
  },
  {
   "cell_type": "code",
   "execution_count": 6,
   "id": "282f23df",
   "metadata": {},
   "outputs": [
    {
     "data": {
      "text/plain": [
       "State\n",
       "Total (All India)    2911862\n",
       "Total (States)       2858026\n",
       "Maharashtra           901945\n",
       "West Bengal           849936\n",
       "Tamil Nadu            818691\n",
       "Andhra Pradesh        814059\n",
       "Karnataka             734825\n",
       "Kerala                538946\n",
       "Madhya Pradesh        451535\n",
       "Gujarat               330858\n",
       "Chhattisgarh          302354\n",
       "Odisha                267234\n",
       "Rajasthan             255134\n",
       "Uttar Pradesh         233352\n",
       "Assam                 172276\n",
       "Haryana               147176\n",
       "Delhi (Ut)             84272\n",
       "Total (Uts)            53836\n",
       "Jharkhand              49720\n",
       "Punjab                 46350\n",
       "Bihar                  46214\n",
       "Tripura                45965\n",
       "Puducherry             32144\n",
       "Himachal Pradesh       26562\n",
       "Uttarakhand            18496\n",
       "Goa                    17363\n",
       "Jammu & Kashmir        14821\n",
       "Sikkim                  9606\n",
       "A & N Islands           8109\n",
       "Arunachal Pradesh       6633\n",
       "Meghalaya               5415\n",
       "Chandigarh              5164\n",
       "Mizoram                 4154\n",
       "D & N Haveli            3430\n",
       "Manipur                 2102\n",
       "Nagaland                1728\n",
       "Daman & Diu             1391\n",
       "Lakshadweep               50\n",
       "Name: Total, dtype: int64"
      ]
     },
     "execution_count": 6,
     "metadata": {},
     "output_type": "execute_result"
    }
   ],
   "source": [
    "#Total suicides in India until 2012 statewise\n",
    "State = df.groupby('State').Total.sum().sort_values(ascending=False)\n",
    "State\n",
    "#Total (All India) ----> Includes Union Territories of India\n",
    "#Total (States) ----> Excluding Union Territories of India"
   ]
  },
  {
   "cell_type": "code",
   "execution_count": 7,
   "id": "808e04ca",
   "metadata": {},
   "outputs": [
    {
     "data": {
      "text/plain": [
       "Year\n",
       "2001     976464\n",
       "2002     993648\n",
       "2003     997622\n",
       "2004    1023137\n",
       "2005    1025201\n",
       "2006    1062991\n",
       "2007    1103667\n",
       "2008    1125082\n",
       "2009    1144033\n",
       "2010    1211322\n",
       "2011    1219499\n",
       "2012    1189068\n",
       "Name: Total, dtype: int64"
      ]
     },
     "execution_count": 7,
     "metadata": {},
     "output_type": "execute_result"
    }
   ],
   "source": [
    "#Total suicides in India until 2012 year wise\n",
    "Year = df.groupby('Year').Total.sum()\n",
    "Year"
   ]
  },
  {
   "cell_type": "markdown",
   "id": "b27af7c0",
   "metadata": {},
   "source": [
    "<h3>Data Visualization</h3>"
   ]
  },
  {
   "cell_type": "code",
   "execution_count": 8,
   "id": "3a877752",
   "metadata": {},
   "outputs": [],
   "source": [
    "x = Year.index.values\n",
    "y = Year.values"
   ]
  },
  {
   "cell_type": "code",
   "execution_count": 9,
   "id": "fbbb748d",
   "metadata": {},
   "outputs": [
    {
     "data": {
      "image/png": "[encoded data removed]",
      "text/plain": [
       "<Figure size 432x288 with 1 Axes>"
      ]
     },
     "metadata": {
      "needs_background": "light"
     },
     "output_type": "display_data"
    }
   ],
   "source": [
    "plt.scatter(x,y)\n",
    "plt.xlabel('Year')\n",
    "plt.ylabel('Total Suicides')\n",
    "plt.title(\"Suicides Rate in India (Year Wise)\")\n",
    "plt.show()"
   ]
  },
  {
   "cell_type": "code",
   "execution_count": 10,
   "id": "05a55b51",
   "metadata": {},
   "outputs": [
    {
     "data": {
      "image/png": "[encoded data removed]",
      "text/plain": [
       "<Figure size 360x720 with 1 Axes>"
      ]
     },
     "metadata": {
      "needs_background": "light"
     },
     "output_type": "display_data"
    }
   ],
   "source": [
    "plt.figure(figsize=(5,10))\n",
    "plt.plot(State.values,State.index.values)\n",
    "plt.title(\"Suicides Rate in India (State Wise)\")\n",
    "plt.show()"
   ]
  },
  {
   "cell_type": "code",
   "execution_count": 11,
   "id": "d23e01a0",
   "metadata": {},
   "outputs": [
    {
     "data": {
      "text/plain": [
       "Gender\n",
       "Female    4702974\n",
       "Male      8368760\n",
       "Name: Total, dtype: int64"
      ]
     },
     "execution_count": 11,
     "metadata": {},
     "output_type": "execute_result"
    }
   ],
   "source": [
    "#Total suicides in India until 2012 year wise\n",
    "Gender = df.groupby('Gender').Total.sum()\n",
    "Gender"
   ]
  },
  {
   "cell_type": "code",
   "execution_count": 12,
   "id": "d3d1afe7",
   "metadata": {},
   "outputs": [
    {
     "data": {
      "text/html": [
       "<div>\n",
       "<style scoped>\n",
       "    .dataframe tbody tr th:only-of-type {\n",
       "        vertical-align: middle;\n",
       "    }\n",
       "\n",
       "    .dataframe tbody tr th {\n",
       "        vertical-align: top;\n",
       "    }\n",
       "\n",
       "    .dataframe thead th {\n",
       "        text-align: right;\n",
       "    }\n",
       "</style>\n",
       "<table border=\"1\" class=\"dataframe\">\n",
       "  <thead>\n",
       "    <tr style=\"text-align: right;\">\n",
       "      <th></th>\n",
       "      <th></th>\n",
       "      <th>Total</th>\n",
       "    </tr>\n",
       "    <tr>\n",
       "      <th>State</th>\n",
       "      <th>Year</th>\n",
       "      <th></th>\n",
       "    </tr>\n",
       "  </thead>\n",
       "  <tbody>\n",
       "    <tr>\n",
       "      <th rowspan=\"5\" valign=\"top\">A &amp; N Islands</th>\n",
       "      <th>2001</th>\n",
       "      <td>645</td>\n",
       "    </tr>\n",
       "    <tr>\n",
       "      <th>2002</th>\n",
       "      <td>720</td>\n",
       "    </tr>\n",
       "    <tr>\n",
       "      <th>2003</th>\n",
       "      <td>565</td>\n",
       "    </tr>\n",
       "    <tr>\n",
       "      <th>2004</th>\n",
       "      <td>610</td>\n",
       "    </tr>\n",
       "    <tr>\n",
       "      <th>2005</th>\n",
       "      <td>695</td>\n",
       "    </tr>\n",
       "    <tr>\n",
       "      <th>...</th>\n",
       "      <th>...</th>\n",
       "      <td>...</td>\n",
       "    </tr>\n",
       "    <tr>\n",
       "      <th rowspan=\"5\" valign=\"top\">West Bengal</th>\n",
       "      <th>2008</th>\n",
       "      <td>74260</td>\n",
       "    </tr>\n",
       "    <tr>\n",
       "      <th>2009</th>\n",
       "      <td>73240</td>\n",
       "    </tr>\n",
       "    <tr>\n",
       "      <th>2010</th>\n",
       "      <td>80185</td>\n",
       "    </tr>\n",
       "    <tr>\n",
       "      <th>2011</th>\n",
       "      <td>82460</td>\n",
       "    </tr>\n",
       "    <tr>\n",
       "      <th>2012</th>\n",
       "      <td>44871</td>\n",
       "    </tr>\n",
       "  </tbody>\n",
       "</table>\n",
       "<p>456 rows × 1 columns</p>\n",
       "</div>"
      ],
      "text/plain": [
       "                    Total\n",
       "State         Year       \n",
       "A & N Islands 2001    645\n",
       "              2002    720\n",
       "              2003    565\n",
       "              2004    610\n",
       "              2005    695\n",
       "...                   ...\n",
       "West Bengal   2008  74260\n",
       "              2009  73240\n",
       "              2010  80185\n",
       "              2011  82460\n",
       "              2012  44871\n",
       "\n",
       "[456 rows x 1 columns]"
      ]
     },
     "execution_count": 12,
     "metadata": {},
     "output_type": "execute_result"
    }
   ],
   "source": [
    "#Total Suicides in India State-Year-Wise\n",
    "df.groupby(['State','Year'])[['Total']].sum()"
   ]
  },
  {
   "cell_type": "code",
   "execution_count": 13,
   "id": "263b9e12",
   "metadata": {},
   "outputs": [
    {
     "data": {
      "text/html": [
       "<div>\n",
       "<style scoped>\n",
       "    .dataframe tbody tr th:only-of-type {\n",
       "        vertical-align: middle;\n",
       "    }\n",
       "\n",
       "    .dataframe tbody tr th {\n",
       "        vertical-align: top;\n",
       "    }\n",
       "\n",
       "    .dataframe thead th {\n",
       "        text-align: right;\n",
       "    }\n",
       "</style>\n",
       "<table border=\"1\" class=\"dataframe\">\n",
       "  <thead>\n",
       "    <tr style=\"text-align: right;\">\n",
       "      <th></th>\n",
       "      <th></th>\n",
       "      <th>Total</th>\n",
       "    </tr>\n",
       "    <tr>\n",
       "      <th>Gender</th>\n",
       "      <th>Year</th>\n",
       "      <th></th>\n",
       "    </tr>\n",
       "  </thead>\n",
       "  <tbody>\n",
       "    <tr>\n",
       "      <th rowspan=\"12\" valign=\"top\">Female</th>\n",
       "      <th>2001</th>\n",
       "      <td>379645</td>\n",
       "    </tr>\n",
       "    <tr>\n",
       "      <th>2002</th>\n",
       "      <td>369675</td>\n",
       "    </tr>\n",
       "    <tr>\n",
       "      <th>2003</th>\n",
       "      <td>365657</td>\n",
       "    </tr>\n",
       "    <tr>\n",
       "      <th>2004</th>\n",
       "      <td>369297</td>\n",
       "    </tr>\n",
       "    <tr>\n",
       "      <th>2005</th>\n",
       "      <td>368980</td>\n",
       "    </tr>\n",
       "    <tr>\n",
       "      <th>2006</th>\n",
       "      <td>381677</td>\n",
       "    </tr>\n",
       "    <tr>\n",
       "      <th>2007</th>\n",
       "      <td>390032</td>\n",
       "    </tr>\n",
       "    <tr>\n",
       "      <th>2008</th>\n",
       "      <td>400202</td>\n",
       "    </tr>\n",
       "    <tr>\n",
       "      <th>2009</th>\n",
       "      <td>411050</td>\n",
       "    </tr>\n",
       "    <tr>\n",
       "      <th>2010</th>\n",
       "      <td>426705</td>\n",
       "    </tr>\n",
       "    <tr>\n",
       "      <th>2011</th>\n",
       "      <td>429688</td>\n",
       "    </tr>\n",
       "    <tr>\n",
       "      <th>2012</th>\n",
       "      <td>410366</td>\n",
       "    </tr>\n",
       "    <tr>\n",
       "      <th rowspan=\"12\" valign=\"top\">Male</th>\n",
       "      <th>2001</th>\n",
       "      <td>596819</td>\n",
       "    </tr>\n",
       "    <tr>\n",
       "      <th>2002</th>\n",
       "      <td>623973</td>\n",
       "    </tr>\n",
       "    <tr>\n",
       "      <th>2003</th>\n",
       "      <td>631965</td>\n",
       "    </tr>\n",
       "    <tr>\n",
       "      <th>2004</th>\n",
       "      <td>653840</td>\n",
       "    </tr>\n",
       "    <tr>\n",
       "      <th>2005</th>\n",
       "      <td>656221</td>\n",
       "    </tr>\n",
       "    <tr>\n",
       "      <th>2006</th>\n",
       "      <td>681314</td>\n",
       "    </tr>\n",
       "    <tr>\n",
       "      <th>2007</th>\n",
       "      <td>713635</td>\n",
       "    </tr>\n",
       "    <tr>\n",
       "      <th>2008</th>\n",
       "      <td>724880</td>\n",
       "    </tr>\n",
       "    <tr>\n",
       "      <th>2009</th>\n",
       "      <td>732983</td>\n",
       "    </tr>\n",
       "    <tr>\n",
       "      <th>2010</th>\n",
       "      <td>784617</td>\n",
       "    </tr>\n",
       "    <tr>\n",
       "      <th>2011</th>\n",
       "      <td>789811</td>\n",
       "    </tr>\n",
       "    <tr>\n",
       "      <th>2012</th>\n",
       "      <td>778702</td>\n",
       "    </tr>\n",
       "  </tbody>\n",
       "</table>\n",
       "</div>"
      ],
      "text/plain": [
       "              Total\n",
       "Gender Year        \n",
       "Female 2001  379645\n",
       "       2002  369675\n",
       "       2003  365657\n",
       "       2004  369297\n",
       "       2005  368980\n",
       "       2006  381677\n",
       "       2007  390032\n",
       "       2008  400202\n",
       "       2009  411050\n",
       "       2010  426705\n",
       "       2011  429688\n",
       "       2012  410366\n",
       "Male   2001  596819\n",
       "       2002  623973\n",
       "       2003  631965\n",
       "       2004  653840\n",
       "       2005  656221\n",
       "       2006  681314\n",
       "       2007  713635\n",
       "       2008  724880\n",
       "       2009  732983\n",
       "       2010  784617\n",
       "       2011  789811\n",
       "       2012  778702"
      ]
     },
     "execution_count": 13,
     "metadata": {},
     "output_type": "execute_result"
    }
   ],
   "source": [
    "#Total Suicides in India Gender-Year-Wise\n",
    "df.groupby(['Gender','Year'])[['Total']].sum()"
   ]
  },
  {
   "cell_type": "code",
   "execution_count": 14,
   "id": "80b170bc",
   "metadata": {},
   "outputs": [
    {
     "data": {
      "text/html": [
       "<div>\n",
       "<style scoped>\n",
       "    .dataframe tbody tr th:only-of-type {\n",
       "        vertical-align: middle;\n",
       "    }\n",
       "\n",
       "    .dataframe tbody tr th {\n",
       "        vertical-align: top;\n",
       "    }\n",
       "\n",
       "    .dataframe thead th {\n",
       "        text-align: right;\n",
       "    }\n",
       "</style>\n",
       "<table border=\"1\" class=\"dataframe\">\n",
       "  <thead>\n",
       "    <tr style=\"text-align: right;\">\n",
       "      <th></th>\n",
       "      <th></th>\n",
       "      <th></th>\n",
       "      <th>Total</th>\n",
       "    </tr>\n",
       "    <tr>\n",
       "      <th>State</th>\n",
       "      <th>Gender</th>\n",
       "      <th>Year</th>\n",
       "      <th></th>\n",
       "    </tr>\n",
       "  </thead>\n",
       "  <tbody>\n",
       "    <tr>\n",
       "      <th rowspan=\"5\" valign=\"top\">A &amp; N Islands</th>\n",
       "      <th rowspan=\"5\" valign=\"top\">Female</th>\n",
       "      <th>2001</th>\n",
       "      <td>250</td>\n",
       "    </tr>\n",
       "    <tr>\n",
       "      <th>2002</th>\n",
       "      <td>265</td>\n",
       "    </tr>\n",
       "    <tr>\n",
       "      <th>2003</th>\n",
       "      <td>215</td>\n",
       "    </tr>\n",
       "    <tr>\n",
       "      <th>2004</th>\n",
       "      <td>205</td>\n",
       "    </tr>\n",
       "    <tr>\n",
       "      <th>2005</th>\n",
       "      <td>265</td>\n",
       "    </tr>\n",
       "    <tr>\n",
       "      <th>...</th>\n",
       "      <th>...</th>\n",
       "      <th>...</th>\n",
       "      <td>...</td>\n",
       "    </tr>\n",
       "    <tr>\n",
       "      <th rowspan=\"5\" valign=\"top\">West Bengal</th>\n",
       "      <th rowspan=\"5\" valign=\"top\">Male</th>\n",
       "      <th>2008</th>\n",
       "      <td>41845</td>\n",
       "    </tr>\n",
       "    <tr>\n",
       "      <th>2009</th>\n",
       "      <td>42470</td>\n",
       "    </tr>\n",
       "    <tr>\n",
       "      <th>2010</th>\n",
       "      <td>46505</td>\n",
       "    </tr>\n",
       "    <tr>\n",
       "      <th>2011</th>\n",
       "      <td>48120</td>\n",
       "    </tr>\n",
       "    <tr>\n",
       "      <th>2012</th>\n",
       "      <td>26040</td>\n",
       "    </tr>\n",
       "  </tbody>\n",
       "</table>\n",
       "<p>912 rows × 1 columns</p>\n",
       "</div>"
      ],
      "text/plain": [
       "                           Total\n",
       "State         Gender Year       \n",
       "A & N Islands Female 2001    250\n",
       "                     2002    265\n",
       "                     2003    215\n",
       "                     2004    205\n",
       "                     2005    265\n",
       "...                          ...\n",
       "West Bengal   Male   2008  41845\n",
       "                     2009  42470\n",
       "                     2010  46505\n",
       "                     2011  48120\n",
       "                     2012  26040\n",
       "\n",
       "[912 rows x 1 columns]"
      ]
     },
     "execution_count": 14,
     "metadata": {},
     "output_type": "execute_result"
    }
   ],
   "source": [
    "#Total Suicides in India State-Gender-Year-Wise\n",
    "df.groupby(['State','Gender','Year'])[['Total']].sum()"
   ]
  },
  {
   "cell_type": "code",
   "execution_count": 15,
   "id": "0a96b592",
   "metadata": {},
   "outputs": [],
   "source": [
    "#Total Suicides in India State-Gender-Year-Wise\n",
    "df.groupby(['State','Gender','Year'])[['Total']].sum().to_html('index.html')"
   ]
  },
  {
   "cell_type": "code",
   "execution_count": 16,
   "id": "0c140eb4",
   "metadata": {},
   "outputs": [
    {
     "data": {
      "text/plain": [
       "Type\n",
       "Married                                           3065322\n",
       "Primary                                           1088481\n",
       "Middle                                            1028913\n",
       "No Education                                       965271\n",
       "Never Married                                      954903\n",
       "                                                   ...   \n",
       "Bankruptcy or Sudden change in Economic Status       2655\n",
       "Illegitimate Pregnancy                               2494\n",
       "Ideological Causes/Hero Worshipping                  2118\n",
       "By Machine                                           1661\n",
       "Not having Children (Barrenness/Impotency             766\n",
       "Name: Total, Length: 69, dtype: int64"
      ]
     },
     "execution_count": 16,
     "metadata": {},
     "output_type": "execute_result"
    }
   ],
   "source": [
    "#Total Suicides in India accordin to the reason for suicide\n",
    "df.groupby(['Type'])['Total'].sum().sort_values(ascending=False)"
   ]
  },
  {
   "cell_type": "markdown",
   "id": "819d775b",
   "metadata": {},
   "source": [
    "<h3>Predicting Future Suicides</h3>"
   ]
  },
  {
   "cell_type": "code",
   "execution_count": 17,
   "id": "0363c9c1",
   "metadata": {},
   "outputs": [],
   "source": [
    "x = Year.index.values.reshape(-1,1)\n",
    "y = Year.values"
   ]
  },
  {
   "cell_type": "code",
   "execution_count": 18,
   "id": "94d5728e",
   "metadata": {},
   "outputs": [
    {
     "data": {
      "image/png": "[encoded data removed]",
      "text/plain": [
       "<Figure size 432x288 with 1 Axes>"
      ]
     },
     "metadata": {
      "needs_background": "light"
     },
     "output_type": "display_data"
    }
   ],
   "source": [
    "plt.scatter(x,y)\n",
    "plt.xlabel('Year')\n",
    "plt.ylabel('Total Suicides')\n",
    "plt.show()"
   ]
  },
  {
   "cell_type": "code",
   "execution_count": 19,
   "id": "364ce7ab",
   "metadata": {},
   "outputs": [
    {
     "data": {
      "text/plain": [
       "LinearRegression()"
      ]
     },
     "execution_count": 19,
     "metadata": {},
     "output_type": "execute_result"
    }
   ],
   "source": [
    "from sklearn.linear_model import LinearRegression\n",
    "reg = LinearRegression()\n",
    "reg.fit(x,y)"
   ]
  },
  {
   "cell_type": "code",
   "execution_count": 20,
   "id": "379c1490",
   "metadata": {},
   "outputs": [
    {
     "data": {
      "text/plain": [
       "array([23818.18881119])"
      ]
     },
     "execution_count": 20,
     "metadata": {},
     "output_type": "execute_result"
    }
   ],
   "source": [
    "#Slope\n",
    "reg.coef_"
   ]
  },
  {
   "cell_type": "code",
   "execution_count": 21,
   "id": "ce191246",
   "metadata": {},
   "outputs": [
    {
     "data": {
      "text/plain": [
       "-46701884.682983674"
      ]
     },
     "execution_count": 21,
     "metadata": {},
     "output_type": "execute_result"
    }
   ],
   "source": [
    "#Intercept\n",
    "reg.intercept_"
   ]
  },
  {
   "cell_type": "code",
   "execution_count": 22,
   "id": "b1313182",
   "metadata": {},
   "outputs": [
    {
     "data": {
      "text/plain": [
       "array([ 976464,  993648,  997622, 1023137, 1025201, 1062991, 1103667,\n",
       "       1125082, 1144033, 1211322, 1219499, 1189068], dtype=int64)"
      ]
     },
     "execution_count": 22,
     "metadata": {},
     "output_type": "execute_result"
    }
   ],
   "source": [
    "y"
   ]
  },
  {
   "cell_type": "code",
   "execution_count": 23,
   "id": "535d7c66",
   "metadata": {},
   "outputs": [
    {
     "data": {
      "text/plain": [
       "array([ 958311.12820512,  982129.31701631, 1005947.5058275 ,\n",
       "       1029765.69463869, 1053583.88344987, 1077402.07226107,\n",
       "       1101220.26107226, 1125038.44988345, 1148856.63869463,\n",
       "       1172674.82750582, 1196493.01631701, 1220311.2051282 ])"
      ]
     },
     "execution_count": 23,
     "metadata": {},
     "output_type": "execute_result"
    }
   ],
   "source": [
    "y_pred = reg.predict(x)\n",
    "y_pred"
   ]
  },
  {
   "cell_type": "code",
   "execution_count": 24,
   "id": "dbeec617",
   "metadata": {},
   "outputs": [
    {
     "data": {
      "image/png": "[encoded data removed]",
      "text/plain": [
       "<Figure size 432x288 with 1 Axes>"
      ]
     },
     "metadata": {
      "needs_background": "light"
     },
     "output_type": "display_data"
    }
   ],
   "source": [
    "#To get Best Fit Line\n",
    "plt.scatter(x,y)\n",
    "plt.plot(x,y_pred)\n",
    "plt.show()"
   ]
  },
  {
   "cell_type": "code",
   "execution_count": 25,
   "id": "63283f45",
   "metadata": {},
   "outputs": [
    {
     "data": {
      "text/plain": [
       "94.61522633937145"
      ]
     },
     "execution_count": 25,
     "metadata": {},
     "output_type": "execute_result"
    }
   ],
   "source": [
    "reg.score(x,y)*100"
   ]
  },
  {
   "cell_type": "code",
   "execution_count": 26,
   "id": "fc62ab1c",
   "metadata": {},
   "outputs": [
    {
     "data": {
      "text/plain": [
       "array([1410856.71561771])"
      ]
     },
     "execution_count": 26,
     "metadata": {},
     "output_type": "execute_result"
    }
   ],
   "source": [
    "reg.predict([[2020]])"
   ]
  },
  {
   "cell_type": "markdown",
   "id": "245b52df",
   "metadata": {},
   "source": [
    "<h3>Polynomial Regression</h3>"
   ]
  },
  {
   "cell_type": "code",
   "execution_count": 27,
   "id": "01a814b8",
   "metadata": {},
   "outputs": [
    {
     "data": {
      "text/html": [
       "<div>\n",
       "<style scoped>\n",
       "    .dataframe tbody tr th:only-of-type {\n",
       "        vertical-align: middle;\n",
       "    }\n",
       "\n",
       "    .dataframe tbody tr th {\n",
       "        vertical-align: top;\n",
       "    }\n",
       "\n",
       "    .dataframe thead th {\n",
       "        text-align: right;\n",
       "    }\n",
       "</style>\n",
       "<table border=\"1\" class=\"dataframe\">\n",
       "  <thead>\n",
       "    <tr style=\"text-align: right;\">\n",
       "      <th></th>\n",
       "      <th>0</th>\n",
       "      <th>1</th>\n",
       "      <th>2</th>\n",
       "      <th>3</th>\n",
       "      <th>4</th>\n",
       "      <th>5</th>\n",
       "    </tr>\n",
       "  </thead>\n",
       "  <tbody>\n",
       "    <tr>\n",
       "      <th>0</th>\n",
       "      <td>1.0</td>\n",
       "      <td>2001.0</td>\n",
       "      <td>4004001.0</td>\n",
       "      <td>8.012006e+09</td>\n",
       "      <td>1.603202e+13</td>\n",
       "      <td>3.208008e+16</td>\n",
       "    </tr>\n",
       "    <tr>\n",
       "      <th>1</th>\n",
       "      <td>1.0</td>\n",
       "      <td>2002.0</td>\n",
       "      <td>4008004.0</td>\n",
       "      <td>8.024024e+09</td>\n",
       "      <td>1.606410e+13</td>\n",
       "      <td>3.216032e+16</td>\n",
       "    </tr>\n",
       "    <tr>\n",
       "      <th>2</th>\n",
       "      <td>1.0</td>\n",
       "      <td>2003.0</td>\n",
       "      <td>4012009.0</td>\n",
       "      <td>8.036054e+09</td>\n",
       "      <td>1.609622e+13</td>\n",
       "      <td>3.224072e+16</td>\n",
       "    </tr>\n",
       "    <tr>\n",
       "      <th>3</th>\n",
       "      <td>1.0</td>\n",
       "      <td>2004.0</td>\n",
       "      <td>4016016.0</td>\n",
       "      <td>8.048096e+09</td>\n",
       "      <td>1.612838e+13</td>\n",
       "      <td>3.232128e+16</td>\n",
       "    </tr>\n",
       "    <tr>\n",
       "      <th>4</th>\n",
       "      <td>1.0</td>\n",
       "      <td>2005.0</td>\n",
       "      <td>4020025.0</td>\n",
       "      <td>8.060150e+09</td>\n",
       "      <td>1.616060e+13</td>\n",
       "      <td>3.240201e+16</td>\n",
       "    </tr>\n",
       "    <tr>\n",
       "      <th>5</th>\n",
       "      <td>1.0</td>\n",
       "      <td>2006.0</td>\n",
       "      <td>4024036.0</td>\n",
       "      <td>8.072216e+09</td>\n",
       "      <td>1.619287e+13</td>\n",
       "      <td>3.248289e+16</td>\n",
       "    </tr>\n",
       "    <tr>\n",
       "      <th>6</th>\n",
       "      <td>1.0</td>\n",
       "      <td>2007.0</td>\n",
       "      <td>4028049.0</td>\n",
       "      <td>8.084294e+09</td>\n",
       "      <td>1.622518e+13</td>\n",
       "      <td>3.256393e+16</td>\n",
       "    </tr>\n",
       "    <tr>\n",
       "      <th>7</th>\n",
       "      <td>1.0</td>\n",
       "      <td>2008.0</td>\n",
       "      <td>4032064.0</td>\n",
       "      <td>8.096385e+09</td>\n",
       "      <td>1.625754e+13</td>\n",
       "      <td>3.264514e+16</td>\n",
       "    </tr>\n",
       "    <tr>\n",
       "      <th>8</th>\n",
       "      <td>1.0</td>\n",
       "      <td>2009.0</td>\n",
       "      <td>4036081.0</td>\n",
       "      <td>8.108487e+09</td>\n",
       "      <td>1.628995e+13</td>\n",
       "      <td>3.272651e+16</td>\n",
       "    </tr>\n",
       "    <tr>\n",
       "      <th>9</th>\n",
       "      <td>1.0</td>\n",
       "      <td>2010.0</td>\n",
       "      <td>4040100.0</td>\n",
       "      <td>8.120601e+09</td>\n",
       "      <td>1.632241e+13</td>\n",
       "      <td>3.280804e+16</td>\n",
       "    </tr>\n",
       "    <tr>\n",
       "      <th>10</th>\n",
       "      <td>1.0</td>\n",
       "      <td>2011.0</td>\n",
       "      <td>4044121.0</td>\n",
       "      <td>8.132727e+09</td>\n",
       "      <td>1.635491e+13</td>\n",
       "      <td>3.288973e+16</td>\n",
       "    </tr>\n",
       "    <tr>\n",
       "      <th>11</th>\n",
       "      <td>1.0</td>\n",
       "      <td>2012.0</td>\n",
       "      <td>4048144.0</td>\n",
       "      <td>8.144866e+09</td>\n",
       "      <td>1.638747e+13</td>\n",
       "      <td>3.297159e+16</td>\n",
       "    </tr>\n",
       "  </tbody>\n",
       "</table>\n",
       "</div>"
      ],
      "text/plain": [
       "      0       1          2             3             4             5\n",
       "0   1.0  2001.0  4004001.0  8.012006e+09  1.603202e+13  3.208008e+16\n",
       "1   1.0  2002.0  4008004.0  8.024024e+09  1.606410e+13  3.216032e+16\n",
       "2   1.0  2003.0  4012009.0  8.036054e+09  1.609622e+13  3.224072e+16\n",
       "3   1.0  2004.0  4016016.0  8.048096e+09  1.612838e+13  3.232128e+16\n",
       "4   1.0  2005.0  4020025.0  8.060150e+09  1.616060e+13  3.240201e+16\n",
       "5   1.0  2006.0  4024036.0  8.072216e+09  1.619287e+13  3.248289e+16\n",
       "6   1.0  2007.0  4028049.0  8.084294e+09  1.622518e+13  3.256393e+16\n",
       "7   1.0  2008.0  4032064.0  8.096385e+09  1.625754e+13  3.264514e+16\n",
       "8   1.0  2009.0  4036081.0  8.108487e+09  1.628995e+13  3.272651e+16\n",
       "9   1.0  2010.0  4040100.0  8.120601e+09  1.632241e+13  3.280804e+16\n",
       "10  1.0  2011.0  4044121.0  8.132727e+09  1.635491e+13  3.288973e+16\n",
       "11  1.0  2012.0  4048144.0  8.144866e+09  1.638747e+13  3.297159e+16"
      ]
     },
     "execution_count": 27,
     "metadata": {},
     "output_type": "execute_result"
    }
   ],
   "source": [
    "from sklearn.preprocessing import PolynomialFeatures\n",
    "poly = PolynomialFeatures(degree=5)\n",
    "X = poly.fit_transform(x)\n",
    "pd.DataFrame(X)"
   ]
  },
  {
   "cell_type": "code",
   "execution_count": 28,
   "id": "acc7e328",
   "metadata": {},
   "outputs": [
    {
     "data": {
      "text/plain": [
       "LinearRegression()"
      ]
     },
     "execution_count": 28,
     "metadata": {},
     "output_type": "execute_result"
    }
   ],
   "source": [
    "reg.fit(X,y)"
   ]
  },
  {
   "cell_type": "code",
   "execution_count": 29,
   "id": "42619bf6",
   "metadata": {},
   "outputs": [
    {
     "data": {
      "text/plain": [
       "array([ 0.00000000e+00, -1.35670354e-01, -4.33987162e-01, -4.35396980e+02,\n",
       "        3.25443039e-01, -6.48679853e-05])"
      ]
     },
     "execution_count": 29,
     "metadata": {},
     "output_type": "execute_result"
    }
   ],
   "source": [
    "reg.coef_"
   ]
  },
  {
   "cell_type": "code",
   "execution_count": 30,
   "id": "dd35c305",
   "metadata": {},
   "outputs": [
    {
     "data": {
      "text/plain": [
       "351865484699.4616"
      ]
     },
     "execution_count": 30,
     "metadata": {},
     "output_type": "execute_result"
    }
   ],
   "source": [
    "reg.intercept_"
   ]
  },
  {
   "cell_type": "code",
   "execution_count": 31,
   "id": "5efa3254",
   "metadata": {},
   "outputs": [
    {
     "data": {
      "text/plain": [
       "array([ 987173.25848389,  983550.11981201,  992415.54119873,\n",
       "       1011190.67352295, 1037288.88299561, 1068115.74725342,\n",
       "       1101069.04852295, 1133538.76287842, 1162907.05682373,\n",
       "       1186548.27313232, 1201828.93133545, 1206107.71356201])"
      ]
     },
     "execution_count": 31,
     "metadata": {},
     "output_type": "execute_result"
    }
   ],
   "source": [
    "yp=reg.predict(X)\n",
    "yp"
   ]
  },
  {
   "cell_type": "code",
   "execution_count": 32,
   "id": "50163abc",
   "metadata": {},
   "outputs": [
    {
     "data": {
      "text/plain": [
       "array([ 976464,  993648,  997622, 1023137, 1025201, 1062991, 1103667,\n",
       "       1125082, 1144033, 1211322, 1219499, 1189068], dtype=int64)"
      ]
     },
     "execution_count": 32,
     "metadata": {},
     "output_type": "execute_result"
    }
   ],
   "source": [
    "y"
   ]
  },
  {
   "cell_type": "code",
   "execution_count": 33,
   "id": "0279cb30",
   "metadata": {},
   "outputs": [
    {
     "data": {
      "image/png": "[encoded data removed]",
      "text/plain": [
       "<Figure size 432x288 with 1 Axes>"
      ]
     },
     "metadata": {
      "needs_background": "light"
     },
     "output_type": "display_data"
    }
   ],
   "source": [
    "plt.scatter(x,y)\n",
    "plt.plot(x,yp)\n",
    "plt.show()"
   ]
  },
  {
   "cell_type": "code",
   "execution_count": 34,
   "id": "d7e978cb",
   "metadata": {},
   "outputs": [
    {
     "data": {
      "text/plain": [
       "97.42287328633738"
      ]
     },
     "execution_count": 34,
     "metadata": {},
     "output_type": "execute_result"
    }
   ],
   "source": [
    "reg.score(X,y)*100"
   ]
  },
  {
   "cell_type": "code",
   "execution_count": 38,
   "id": "4a29270f",
   "metadata": {},
   "outputs": [
    {
     "name": "stdout",
     "output_type": "stream",
     "text": [
      "Enter the year: 2020\n"
     ]
    }
   ],
   "source": [
    "year = int(input(\"Enter the year: \"))"
   ]
  },
  {
   "cell_type": "code",
   "execution_count": 39,
   "id": "a9df6bb6",
   "metadata": {},
   "outputs": [],
   "source": [
    "val=poly.transform([[year]])"
   ]
  },
  {
   "cell_type": "code",
   "execution_count": 40,
   "id": "0d9487a0",
   "metadata": {},
   "outputs": [
    {
     "data": {
      "text/plain": [
       "array([524720.30780029])"
      ]
     },
     "execution_count": 40,
     "metadata": {},
     "output_type": "execute_result"
    }
   ],
   "source": [
    "reg.predict(val)"
   ]
  },
  {
   "cell_type": "code",
   "execution_count": null,
   "id": "34185473",
   "metadata": {},
   "outputs": [],
   "source": []
  }
 ],
 "metadata": {
  "kernelspec": {
   "display_name": "Python 3",
   "language": "python",
   "name": "python3"
  },
  "language_info": {
   "codemirror_mode": {
    "name": "ipython",
    "version": 3
   },
   "file_extension": ".py",
   "mimetype": "text/x-python",
   "name": "python",
   "nbconvert_exporter": "python",
   "pygments_lexer": "ipython3",
   "version": "3.8.8"
  }
 },
 "nbformat": 4,
 "nbformat_minor": 5
}
