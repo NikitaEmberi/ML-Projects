{
  "nbformat": 4,
  "nbformat_minor": 0,
  "metadata": {
    "colab": {
      "name": "Sarcasm Detection GloVe.ipynb",
      "provenance": [],
      "collapsed_sections": []
    },
    "kernelspec": {
      "name": "python3",
      "display_name": "Python 3"
    },
    "language_info": {
      "name": "python"
    },
    "accelerator": "GPU"
  },
  "cells": [
    {
      "cell_type": "code",
      "metadata": {
        "id": "GpD5VeCq41wf"
      },
      "source": [
        "#"
      ],
      "execution_count": null,
      "outputs": []
    },
    {
      "cell_type": "code",
      "metadata": {
        "id": "W3YVlmD3xT7L",
        "colab": {
          "base_uri": "https://localhost:8080/"
        },
        "outputId": "77441919-9796-411d-f447-fa88117f4f1d"
      },
      "source": [
        "from google.colab import drive\n",
        "drive.mount('/content/drive')"
      ],
      "execution_count": null,
      "outputs": [
        {
          "output_type": "stream",
          "name": "stdout",
          "text": [
            "Mounted at /content/drive\n"
          ]
        }
      ]
    },
    {
      "cell_type": "code",
      "metadata": {
        "id": "h0ZrF9Olpntj"
      },
      "source": [
        "import pandas as pd\n",
        "import datetime as dt\n",
        "import seaborn as sns\n",
        "import numpy as np\n",
        "import re"
      ],
      "execution_count": null,
      "outputs": []
    },
    {
      "cell_type": "code",
      "metadata": {
        "colab": {
          "base_uri": "https://localhost:8080/",
          "height": 408
        },
        "id": "cQ54049NqAeC",
        "outputId": "0b00308a-5a64-4faa-d24b-d1c5d7194b3a"
      },
      "source": [
        "pd.set_option(\"display.max_colwidth\",2)\n",
        "df = pd.read_json(\"/content/drive/My Drive/Colab Notebooks/Sarcasm_Headlines_Dataset_v2.json\",lines=True)\n",
        "df.head(5)"
      ],
      "execution_count": null,
      "outputs": [
        {
          "output_type": "execute_result",
          "data": {
            "text/html": [
              "<div>\n",
              "<style scoped>\n",
              "    .dataframe tbody tr th:only-of-type {\n",
              "        vertical-align: middle;\n",
              "    }\n",
              "\n",
              "    .dataframe tbody tr th {\n",
              "        vertical-align: top;\n",
              "    }\n",
              "\n",
              "    .dataframe thead th {\n",
              "        text-align: right;\n",
              "    }\n",
              "</style>\n",
              "<table border=\"1\" class=\"dataframe\">\n",
              "  <thead>\n",
              "    <tr style=\"text-align: right;\">\n",
              "      <th></th>\n",
              "      <th>is_sarcastic</th>\n",
              "      <th>headline</th>\n",
              "      <th>article_link</th>\n",
              "    </tr>\n",
              "  </thead>\n",
              "  <tbody>\n",
              "    <tr>\n",
              "      <th>0</th>\n",
              "      <td>1</td>\n",
              "      <td>thirtysomething scientists unveil doomsday clock of hair loss</td>\n",
              "      <td>https://www.theonion.com/thirtysomething-scientists-unveil-doomsday-clock-of-hai-1819586205</td>\n",
              "    </tr>\n",
              "    <tr>\n",
              "      <th>1</th>\n",
              "      <td>0</td>\n",
              "      <td>dem rep. totally nails why congress is falling short on gender, racial equality</td>\n",
              "      <td>https://www.huffingtonpost.com/entry/donna-edwards-inequality_us_57455f7fe4b055bb1170b207</td>\n",
              "    </tr>\n",
              "    <tr>\n",
              "      <th>2</th>\n",
              "      <td>0</td>\n",
              "      <td>eat your veggies: 9 deliciously different recipes</td>\n",
              "      <td>https://www.huffingtonpost.com/entry/eat-your-veggies-9-delici_b_8899742.html</td>\n",
              "    </tr>\n",
              "    <tr>\n",
              "      <th>3</th>\n",
              "      <td>1</td>\n",
              "      <td>inclement weather prevents liar from getting to work</td>\n",
              "      <td>https://local.theonion.com/inclement-weather-prevents-liar-from-getting-to-work-1819576031</td>\n",
              "    </tr>\n",
              "    <tr>\n",
              "      <th>4</th>\n",
              "      <td>1</td>\n",
              "      <td>mother comes pretty close to using word 'streaming' correctly</td>\n",
              "      <td>https://www.theonion.com/mother-comes-pretty-close-to-using-word-streaming-cor-1819575546</td>\n",
              "    </tr>\n",
              "  </tbody>\n",
              "</table>\n",
              "</div>"
            ],
            "text/plain": [
              "   is_sarcastic  ...                                                                                 article_link\n",
              "0  1             ...  https://www.theonion.com/thirtysomething-scientists-unveil-doomsday-clock-of-hai-1819586205\n",
              "1  0             ...  https://www.huffingtonpost.com/entry/donna-edwards-inequality_us_57455f7fe4b055bb1170b207  \n",
              "2  0             ...  https://www.huffingtonpost.com/entry/eat-your-veggies-9-delici_b_8899742.html              \n",
              "3  1             ...  https://local.theonion.com/inclement-weather-prevents-liar-from-getting-to-work-1819576031 \n",
              "4  1             ...  https://www.theonion.com/mother-comes-pretty-close-to-using-word-streaming-cor-1819575546  \n",
              "\n",
              "[5 rows x 3 columns]"
            ]
          },
          "metadata": {},
          "execution_count": 4
        }
      ]
    },
    {
      "cell_type": "code",
      "metadata": {
        "colab": {
          "base_uri": "https://localhost:8080/"
        },
        "id": "uw4MfaTBrjTB",
        "outputId": "44b08071-6829-4c4e-e3c9-2c25876249b7"
      },
      "source": [
        "df.shape"
      ],
      "execution_count": null,
      "outputs": [
        {
          "output_type": "execute_result",
          "data": {
            "text/plain": [
              "(28619, 3)"
            ]
          },
          "metadata": {},
          "execution_count": 5
        }
      ]
    },
    {
      "cell_type": "code",
      "metadata": {
        "colab": {
          "base_uri": "https://localhost:8080/"
        },
        "id": "9jXi6cCorrgQ",
        "outputId": "867dd607-50fc-4e25-9bc4-23a515a0c634"
      },
      "source": [
        "df['article_link'].map(lambda x: re.findall(r'\\w*',x)[6])"
      ],
      "execution_count": null,
      "outputs": [
        {
          "output_type": "execute_result",
          "data": {
            "text/plain": [
              "0        theonion      \n",
              "1        huffingtonpost\n",
              "2        huffingtonpost\n",
              "3        theonion      \n",
              "4        theonion      \n",
              "           ...         \n",
              "28614    theonion      \n",
              "28615    theonion      \n",
              "28616    huffingtonpost\n",
              "28617    theonion      \n",
              "28618    theonion      \n",
              "Name: article_link, Length: 28619, dtype: object"
            ]
          },
          "metadata": {},
          "execution_count": 6
        }
      ]
    },
    {
      "cell_type": "code",
      "metadata": {
        "id": "IEbJt9mhsCpw"
      },
      "source": [
        "df['news_article'] = df['article_link'].map(lambda x: re.findall(r'\\w*',x)[6])"
      ],
      "execution_count": null,
      "outputs": []
    },
    {
      "cell_type": "code",
      "metadata": {
        "id": "IVk1Ksy5sWoF"
      },
      "source": [
        "df['len_of_sentence'] = df['headline'].map(lambda x: len(x.split(\" \")))"
      ],
      "execution_count": null,
      "outputs": []
    },
    {
      "cell_type": "code",
      "metadata": {
        "colab": {
          "base_uri": "https://localhost:8080/",
          "height": 1000
        },
        "id": "YatUUSkTsgW5",
        "outputId": "975ad281-5d93-4ffa-8d4e-2a8eecf7e4ed"
      },
      "source": [
        "df.head(10)"
      ],
      "execution_count": null,
      "outputs": [
        {
          "output_type": "execute_result",
          "data": {
            "text/html": [
              "<div>\n",
              "<style scoped>\n",
              "    .dataframe tbody tr th:only-of-type {\n",
              "        vertical-align: middle;\n",
              "    }\n",
              "\n",
              "    .dataframe tbody tr th {\n",
              "        vertical-align: top;\n",
              "    }\n",
              "\n",
              "    .dataframe thead th {\n",
              "        text-align: right;\n",
              "    }\n",
              "</style>\n",
              "<table border=\"1\" class=\"dataframe\">\n",
              "  <thead>\n",
              "    <tr style=\"text-align: right;\">\n",
              "      <th></th>\n",
              "      <th>is_sarcastic</th>\n",
              "      <th>headline</th>\n",
              "      <th>article_link</th>\n",
              "      <th>news_article</th>\n",
              "      <th>len_of_sentence</th>\n",
              "    </tr>\n",
              "  </thead>\n",
              "  <tbody>\n",
              "    <tr>\n",
              "      <th>0</th>\n",
              "      <td>1</td>\n",
              "      <td>thirtysomething scientists unveil doomsday clock of hair loss</td>\n",
              "      <td>https://www.theonion.com/thirtysomething-scientists-unveil-doomsday-clock-of-hai-1819586205</td>\n",
              "      <td>theonion</td>\n",
              "      <td>8</td>\n",
              "    </tr>\n",
              "    <tr>\n",
              "      <th>1</th>\n",
              "      <td>0</td>\n",
              "      <td>dem rep. totally nails why congress is falling short on gender, racial equality</td>\n",
              "      <td>https://www.huffingtonpost.com/entry/donna-edwards-inequality_us_57455f7fe4b055bb1170b207</td>\n",
              "      <td>huffingtonpost</td>\n",
              "      <td>13</td>\n",
              "    </tr>\n",
              "    <tr>\n",
              "      <th>2</th>\n",
              "      <td>0</td>\n",
              "      <td>eat your veggies: 9 deliciously different recipes</td>\n",
              "      <td>https://www.huffingtonpost.com/entry/eat-your-veggies-9-delici_b_8899742.html</td>\n",
              "      <td>huffingtonpost</td>\n",
              "      <td>7</td>\n",
              "    </tr>\n",
              "    <tr>\n",
              "      <th>3</th>\n",
              "      <td>1</td>\n",
              "      <td>inclement weather prevents liar from getting to work</td>\n",
              "      <td>https://local.theonion.com/inclement-weather-prevents-liar-from-getting-to-work-1819576031</td>\n",
              "      <td>theonion</td>\n",
              "      <td>8</td>\n",
              "    </tr>\n",
              "    <tr>\n",
              "      <th>4</th>\n",
              "      <td>1</td>\n",
              "      <td>mother comes pretty close to using word 'streaming' correctly</td>\n",
              "      <td>https://www.theonion.com/mother-comes-pretty-close-to-using-word-streaming-cor-1819575546</td>\n",
              "      <td>theonion</td>\n",
              "      <td>9</td>\n",
              "    </tr>\n",
              "    <tr>\n",
              "      <th>5</th>\n",
              "      <td>0</td>\n",
              "      <td>my white inheritance</td>\n",
              "      <td>https://www.huffingtonpost.com/entry/my-white-inheritance_us_59230747e4b07617ae4cbe1a</td>\n",
              "      <td>huffingtonpost</td>\n",
              "      <td>3</td>\n",
              "    </tr>\n",
              "    <tr>\n",
              "      <th>6</th>\n",
              "      <td>0</td>\n",
              "      <td>5 ways to file your taxes with less stress</td>\n",
              "      <td>https://www.huffingtonpost.com/entry/5-ways-to-file-your-taxes_b_6957316.html</td>\n",
              "      <td>huffingtonpost</td>\n",
              "      <td>9</td>\n",
              "    </tr>\n",
              "    <tr>\n",
              "      <th>7</th>\n",
              "      <td>1</td>\n",
              "      <td>richard branson's global-warming donation nearly as much as cost of failed balloon trips</td>\n",
              "      <td>https://www.theonion.com/richard-bransons-global-warming-donation-nearly-as-much-1819568749</td>\n",
              "      <td>theonion</td>\n",
              "      <td>13</td>\n",
              "    </tr>\n",
              "    <tr>\n",
              "      <th>8</th>\n",
              "      <td>1</td>\n",
              "      <td>shadow government getting too large to meet in marriott conference room b</td>\n",
              "      <td>https://politics.theonion.com/shadow-government-getting-too-large-to-meet-in-marriott-1819570731</td>\n",
              "      <td>theonion</td>\n",
              "      <td>12</td>\n",
              "    </tr>\n",
              "    <tr>\n",
              "      <th>9</th>\n",
              "      <td>0</td>\n",
              "      <td>lots of parents know this scenario</td>\n",
              "      <td>https://www.huffingtonpost.comhttp://pubx.co/6IXxhm</td>\n",
              "      <td>huffingtonpost</td>\n",
              "      <td>6</td>\n",
              "    </tr>\n",
              "  </tbody>\n",
              "</table>\n",
              "</div>"
            ],
            "text/plain": [
              "   is_sarcastic  ... len_of_sentence\n",
              "0  1             ...  8             \n",
              "1  0             ...  13            \n",
              "2  0             ...  7             \n",
              "3  1             ...  8             \n",
              "4  1             ...  9             \n",
              "5  0             ...  3             \n",
              "6  0             ...  9             \n",
              "7  1             ...  13            \n",
              "8  1             ...  12            \n",
              "9  0             ...  6             \n",
              "\n",
              "[10 rows x 5 columns]"
            ]
          },
          "metadata": {},
          "execution_count": 9
        }
      ]
    },
    {
      "cell_type": "code",
      "metadata": {
        "colab": {
          "base_uri": "https://localhost:8080/"
        },
        "id": "k_0gGbqvshu7",
        "outputId": "95c35a27-a378-4ae6-b454-5e3f43b4e627"
      },
      "source": [
        "[df['len_of_sentence'].max(),df['len_of_sentence'].min()]"
      ],
      "execution_count": null,
      "outputs": [
        {
          "output_type": "execute_result",
          "data": {
            "text/plain": [
              "[151, 2]"
            ]
          },
          "metadata": {},
          "execution_count": 10
        }
      ]
    },
    {
      "cell_type": "code",
      "metadata": {
        "colab": {
          "base_uri": "https://localhost:8080/",
          "height": 297
        },
        "id": "zEyY8nIhuoK2",
        "outputId": "31895df3-e669-4bf7-a127-01b3179e9bb2"
      },
      "source": [
        "df.describe()"
      ],
      "execution_count": null,
      "outputs": [
        {
          "output_type": "execute_result",
          "data": {
            "text/html": [
              "<div>\n",
              "<style scoped>\n",
              "    .dataframe tbody tr th:only-of-type {\n",
              "        vertical-align: middle;\n",
              "    }\n",
              "\n",
              "    .dataframe tbody tr th {\n",
              "        vertical-align: top;\n",
              "    }\n",
              "\n",
              "    .dataframe thead th {\n",
              "        text-align: right;\n",
              "    }\n",
              "</style>\n",
              "<table border=\"1\" class=\"dataframe\">\n",
              "  <thead>\n",
              "    <tr style=\"text-align: right;\">\n",
              "      <th></th>\n",
              "      <th>is_sarcastic</th>\n",
              "      <th>len_of_sentence</th>\n",
              "    </tr>\n",
              "  </thead>\n",
              "  <tbody>\n",
              "    <tr>\n",
              "      <th>count</th>\n",
              "      <td>28619.000000</td>\n",
              "      <td>28619.000000</td>\n",
              "    </tr>\n",
              "    <tr>\n",
              "      <th>mean</th>\n",
              "      <td>0.476397</td>\n",
              "      <td>10.051854</td>\n",
              "    </tr>\n",
              "    <tr>\n",
              "      <th>std</th>\n",
              "      <td>0.499451</td>\n",
              "      <td>3.390939</td>\n",
              "    </tr>\n",
              "    <tr>\n",
              "      <th>min</th>\n",
              "      <td>0.000000</td>\n",
              "      <td>2.000000</td>\n",
              "    </tr>\n",
              "    <tr>\n",
              "      <th>25%</th>\n",
              "      <td>0.000000</td>\n",
              "      <td>8.000000</td>\n",
              "    </tr>\n",
              "    <tr>\n",
              "      <th>50%</th>\n",
              "      <td>0.000000</td>\n",
              "      <td>10.000000</td>\n",
              "    </tr>\n",
              "    <tr>\n",
              "      <th>75%</th>\n",
              "      <td>1.000000</td>\n",
              "      <td>12.000000</td>\n",
              "    </tr>\n",
              "    <tr>\n",
              "      <th>max</th>\n",
              "      <td>1.000000</td>\n",
              "      <td>151.000000</td>\n",
              "    </tr>\n",
              "  </tbody>\n",
              "</table>\n",
              "</div>"
            ],
            "text/plain": [
              "       is_sarcastic  len_of_sentence\n",
              "count  28619.000000  28619.000000   \n",
              "mean   0.476397      10.051854      \n",
              "std    0.499451      3.390939       \n",
              "min    0.000000      2.000000       \n",
              "25%    0.000000      8.000000       \n",
              "50%    0.000000      10.000000      \n",
              "75%    1.000000      12.000000      \n",
              "max    1.000000      151.000000     "
            ]
          },
          "metadata": {},
          "execution_count": 11
        }
      ]
    },
    {
      "cell_type": "code",
      "metadata": {
        "colab": {
          "base_uri": "https://localhost:8080/",
          "height": 498
        },
        "id": "yLS_7Tt4uqmP",
        "outputId": "540b6d5e-f8d6-45f7-c5a2-e0f9d5284955"
      },
      "source": [
        "pd.concat([df.loc[(df['len_of_sentence']==2)].head(5), df.loc[(df['len_of_sentence']==2)].tail(5)])"
      ],
      "execution_count": null,
      "outputs": [
        {
          "output_type": "execute_result",
          "data": {
            "text/html": [
              "<div>\n",
              "<style scoped>\n",
              "    .dataframe tbody tr th:only-of-type {\n",
              "        vertical-align: middle;\n",
              "    }\n",
              "\n",
              "    .dataframe tbody tr th {\n",
              "        vertical-align: top;\n",
              "    }\n",
              "\n",
              "    .dataframe thead th {\n",
              "        text-align: right;\n",
              "    }\n",
              "</style>\n",
              "<table border=\"1\" class=\"dataframe\">\n",
              "  <thead>\n",
              "    <tr style=\"text-align: right;\">\n",
              "      <th></th>\n",
              "      <th>is_sarcastic</th>\n",
              "      <th>headline</th>\n",
              "      <th>article_link</th>\n",
              "      <th>news_article</th>\n",
              "      <th>len_of_sentence</th>\n",
              "    </tr>\n",
              "  </thead>\n",
              "  <tbody>\n",
              "    <tr>\n",
              "      <th>269</th>\n",
              "      <td>0</td>\n",
              "      <td>trump's tailspin</td>\n",
              "      <td>https://www.huffingtonpost.com/entry/trumps-tailspin_us_5994d1e3e4b055243ea135a6</td>\n",
              "      <td>huffingtonpost</td>\n",
              "      <td>2</td>\n",
              "    </tr>\n",
              "    <tr>\n",
              "      <th>489</th>\n",
              "      <td>0</td>\n",
              "      <td>sunday roundup</td>\n",
              "      <td>https://www.huffingtonpost.com/entry/sunday-roundup_395_b_7678280.html</td>\n",
              "      <td>huffingtonpost</td>\n",
              "      <td>2</td>\n",
              "    </tr>\n",
              "    <tr>\n",
              "      <th>859</th>\n",
              "      <td>1</td>\n",
              "      <td>life unfair</td>\n",
              "      <td>https://www.theonion.com/life-unfair-1819564293</td>\n",
              "      <td>theonion</td>\n",
              "      <td>2</td>\n",
              "    </tr>\n",
              "    <tr>\n",
              "      <th>1168</th>\n",
              "      <td>1</td>\n",
              "      <td>cher back</td>\n",
              "      <td>https://entertainment.theonion.com/cher-back-1819590091</td>\n",
              "      <td>theonion</td>\n",
              "      <td>2</td>\n",
              "    </tr>\n",
              "    <tr>\n",
              "      <th>1225</th>\n",
              "      <td>0</td>\n",
              "      <td>clean machine</td>\n",
              "      <td>https://www.huffingtonpost.com/entry/clean-machine_b_5794080.html</td>\n",
              "      <td>huffingtonpost</td>\n",
              "      <td>2</td>\n",
              "    </tr>\n",
              "    <tr>\n",
              "      <th>27565</th>\n",
              "      <td>0</td>\n",
              "      <td>celebrating christmas</td>\n",
              "      <td>https://www.huffingtonpost.com/entry/celebrating-christmas_b_6319622.html</td>\n",
              "      <td>huffingtonpost</td>\n",
              "      <td>2</td>\n",
              "    </tr>\n",
              "    <tr>\n",
              "      <th>27935</th>\n",
              "      <td>0</td>\n",
              "      <td>sunday roundup</td>\n",
              "      <td>https://www.huffingtonpost.com/entry/sunday-roundup_371_b_6493814.html</td>\n",
              "      <td>huffingtonpost</td>\n",
              "      <td>2</td>\n",
              "    </tr>\n",
              "    <tr>\n",
              "      <th>28094</th>\n",
              "      <td>1</td>\n",
              "      <td>chaps unnecessary</td>\n",
              "      <td>https://www.theonion.com/chaps-unnecessary-1819587419</td>\n",
              "      <td>theonion</td>\n",
              "      <td>2</td>\n",
              "    </tr>\n",
              "    <tr>\n",
              "      <th>28376</th>\n",
              "      <td>0</td>\n",
              "      <td>bye bye</td>\n",
              "      <td>https://www.huffingtonpost.com/entry/bye-bye_b_7251394.html</td>\n",
              "      <td>huffingtonpost</td>\n",
              "      <td>2</td>\n",
              "    </tr>\n",
              "    <tr>\n",
              "      <th>28571</th>\n",
              "      <td>0</td>\n",
              "      <td>refugee blues</td>\n",
              "      <td>https://www.huffingtonpost.com/entry/post_10092_b_8097064.html</td>\n",
              "      <td>huffingtonpost</td>\n",
              "      <td>2</td>\n",
              "    </tr>\n",
              "  </tbody>\n",
              "</table>\n",
              "</div>"
            ],
            "text/plain": [
              "       is_sarcastic               headline  ...    news_article len_of_sentence\n",
              "269    0             trump's tailspin       ...  huffingtonpost  2             \n",
              "489    0             sunday roundup         ...  huffingtonpost  2             \n",
              "859    1             life unfair            ...  theonion        2             \n",
              "1168   1             cher back              ...  theonion        2             \n",
              "1225   0             clean machine          ...  huffingtonpost  2             \n",
              "27565  0             celebrating christmas  ...  huffingtonpost  2             \n",
              "27935  0             sunday roundup         ...  huffingtonpost  2             \n",
              "28094  1             chaps unnecessary      ...  theonion        2             \n",
              "28376  0             bye bye                ...  huffingtonpost  2             \n",
              "28571  0             refugee blues          ...  huffingtonpost  2             \n",
              "\n",
              "[10 rows x 5 columns]"
            ]
          },
          "metadata": {},
          "execution_count": 12
        }
      ]
    },
    {
      "cell_type": "code",
      "metadata": {
        "colab": {
          "base_uri": "https://localhost:8080/"
        },
        "id": "wfbYGPlovPnO",
        "outputId": "7af5c489-a72c-472f-d4f2-c30424430ac5"
      },
      "source": [
        "print(df[(df.news_article == 'huffingtonpost') & (df.is_sarcastic == 0)].count())\n",
        "print(\"----------------------\")\n",
        "print(df[(df.news_article == 'huffingtonpost') & (df.is_sarcastic == 1)].count())\n",
        "print(\"----------------------\")\n",
        "print(df[(df.news_article == 'theonion') & (df.is_sarcastic == 0)].count())\n",
        "print(\"----------------------\")\n",
        "print(df[(df.news_article == 'theonion') & (df.is_sarcastic == 1)].count())"
      ],
      "execution_count": null,
      "outputs": [
        {
          "output_type": "stream",
          "name": "stdout",
          "text": [
            "is_sarcastic       14985\n",
            "headline           14985\n",
            "article_link       14985\n",
            "news_article       14985\n",
            "len_of_sentence    14985\n",
            "dtype: int64\n",
            "----------------------\n",
            "is_sarcastic       0\n",
            "headline           0\n",
            "article_link       0\n",
            "news_article       0\n",
            "len_of_sentence    0\n",
            "dtype: int64\n",
            "----------------------\n",
            "is_sarcastic       0\n",
            "headline           0\n",
            "article_link       0\n",
            "news_article       0\n",
            "len_of_sentence    0\n",
            "dtype: int64\n",
            "----------------------\n",
            "is_sarcastic       13634\n",
            "headline           13634\n",
            "article_link       13634\n",
            "news_article       13634\n",
            "len_of_sentence    13634\n",
            "dtype: int64\n"
          ]
        }
      ]
    },
    {
      "cell_type": "code",
      "metadata": {
        "colab": {
          "base_uri": "https://localhost:8080/"
        },
        "id": "_-9PZY1vwMq_",
        "outputId": "1270d8ba-7423-4a6e-c6b7-ad5e377dc358"
      },
      "source": [
        "df['is_sarcastic'].value_counts()"
      ],
      "execution_count": null,
      "outputs": [
        {
          "output_type": "execute_result",
          "data": {
            "text/plain": [
              "0    14985\n",
              "1    13634\n",
              "Name: is_sarcastic, dtype: int64"
            ]
          },
          "metadata": {},
          "execution_count": 24
        }
      ]
    },
    {
      "cell_type": "code",
      "metadata": {
        "colab": {
          "base_uri": "https://localhost:8080/",
          "height": 297
        },
        "id": "Sb4brxAcwrEk",
        "outputId": "cc27ef30-d712-4377-cab2-124481c6e144"
      },
      "source": [
        "sns.countplot(x='news_article',data=df)"
      ],
      "execution_count": null,
      "outputs": [
        {
          "output_type": "execute_result",
          "data": {
            "text/plain": [
              "<matplotlib.axes._subplots.AxesSubplot at 0x7fb3247022d0>"
            ]
          },
          "metadata": {},
          "execution_count": 25
        },
        {
          "output_type": "display_data",
          "data": {
            "image/png": "[encoded data removed]",
            "text/plain": [
              "<Figure size 432x288 with 1 Axes>"
            ]
          },
          "metadata": {
            "needs_background": "light"
          }
        }
      ]
    },
    {
      "cell_type": "code",
      "metadata": {
        "colab": {
          "base_uri": "https://localhost:8080/",
          "height": 297
        },
        "id": "_O33u-R3xhaN",
        "outputId": "cd4cc8c5-c396-4132-9d9a-8ed7c9c19305"
      },
      "source": [
        "sns.countplot(x = \"is_sarcastic\",data=df)"
      ],
      "execution_count": null,
      "outputs": [
        {
          "output_type": "execute_result",
          "data": {
            "text/plain": [
              "<matplotlib.axes._subplots.AxesSubplot at 0x7fb324742890>"
            ]
          },
          "metadata": {},
          "execution_count": 26
        },
        {
          "output_type": "display_data",
          "data": {
            "image/png": "[encoded data removed]",
            "text/plain": [
              "<Figure size 432x288 with 1 Axes>"
            ]
          },
          "metadata": {
            "needs_background": "light"
          }
        }
      ]
    },
    {
      "cell_type": "code",
      "metadata": {
        "colab": {
          "base_uri": "https://localhost:8080/"
        },
        "id": "AYQvLzf7xvGR",
        "outputId": "44afeb3f-c439-489f-bb20-e35d5f3eac29"
      },
      "source": [
        "df.dtypes"
      ],
      "execution_count": null,
      "outputs": [
        {
          "output_type": "execute_result",
          "data": {
            "text/plain": [
              "is_sarcastic       int64 \n",
              "headline           object\n",
              "article_link       object\n",
              "news_article       object\n",
              "len_of_sentence    int64 \n",
              "dtype: object"
            ]
          },
          "metadata": {},
          "execution_count": 27
        }
      ]
    },
    {
      "cell_type": "code",
      "metadata": {
        "id": "uzgUPtf7x02W"
      },
      "source": [
        "import string\n",
        "def no_punctuation(words):\n",
        "  no_punc = \"\".join([w for w in words if w not in string.punctuation])\n",
        "  return no_punc"
      ],
      "execution_count": null,
      "outputs": []
    },
    {
      "cell_type": "code",
      "metadata": {
        "colab": {
          "base_uri": "https://localhost:8080/"
        },
        "id": "AwnP8VAcyFsO",
        "outputId": "eea3ba17-3cf8-4e05-962b-a47f0ba61f24"
      },
      "source": [
        "df['headline'] = df['headline'].apply(lambda x: no_punctuation(x))\n",
        "df['headline'].head(10)"
      ],
      "execution_count": null,
      "outputs": [
        {
          "output_type": "execute_result",
          "data": {
            "text/plain": [
              "0    thirtysomethingscientistsunveildoomsdayclockhairloss                \n",
              "1    demreptotallynailscongressfallingshortgenderracialequality          \n",
              "2    eatveggies9deliciouslydifferentrecipes                              \n",
              "3    inclementweatherpreventsliargettingwork                             \n",
              "4    mothercomesprettycloseusingwordstreamingcorrectly                   \n",
              "5    whiteinheritance                                                    \n",
              "6    5waysfiletaxeslessstress                                            \n",
              "7    richardbransonsglobalwarmingdonationnearlymuchcostfailedballoontrips\n",
              "8    shadowgovernmentgettinglargemeetmarriottconferenceroomb             \n",
              "9    lotsparentsknowscenario                                             \n",
              "Name: headline, dtype: object"
            ]
          },
          "metadata": {},
          "execution_count": 29
        }
      ]
    },
    {
      "cell_type": "code",
      "metadata": {
        "id": "Jb68JZ-jySdL"
      },
      "source": [
        "from nltk.tokenize import RegexpTokenizer\n",
        "tokenizer = RegexpTokenizer(r'\\w+')"
      ],
      "execution_count": null,
      "outputs": []
    },
    {
      "cell_type": "code",
      "metadata": {
        "colab": {
          "base_uri": "https://localhost:8080/"
        },
        "id": "bIUypckBym30",
        "outputId": "59da7da7-b500-4176-e8b2-393cac159ea4"
      },
      "source": [
        "df['headline'] = df['headline'].apply(lambda x: tokenizer.tokenize(x.lower()))\n",
        "df['headline'].head(10)"
      ],
      "execution_count": null,
      "outputs": [
        {
          "output_type": "execute_result",
          "data": {
            "text/plain": [
              "0    [thirtysomethingscientistsunveildoomsdayclockhairloss]                \n",
              "1    [demreptotallynailscongressfallingshortgenderracialequality]          \n",
              "2    [eatveggies9deliciouslydifferentrecipes]                              \n",
              "3    [inclementweatherpreventsliargettingwork]                             \n",
              "4    [mothercomesprettycloseusingwordstreamingcorrectly]                   \n",
              "5    [whiteinheritance]                                                    \n",
              "6    [5waysfiletaxeslessstress]                                            \n",
              "7    [richardbransonsglobalwarmingdonationnearlymuchcostfailedballoontrips]\n",
              "8    [shadowgovernmentgettinglargemeetmarriottconferenceroomb]             \n",
              "9    [lotsparentsknowscenario]                                             \n",
              "Name: headline, dtype: object"
            ]
          },
          "metadata": {},
          "execution_count": 31
        }
      ]
    },
    {
      "cell_type": "code",
      "metadata": {
        "colab": {
          "base_uri": "https://localhost:8080/"
        },
        "id": "o08Is0Ukyz5T",
        "outputId": "50eee48e-2e82-402f-e6e5-b79ca2d01608"
      },
      "source": [
        "import nltk\n",
        "from nltk.corpus import stopwords\n",
        "nltk.download('stopwords')\n",
        "def remove_stopwords(text):\n",
        "  no_stop_words = [w for w in text if w not in stopwords.words('english')]\n",
        "  return no_stop_words"
      ],
      "execution_count": null,
      "outputs": [
        {
          "output_type": "stream",
          "name": "stdout",
          "text": [
            "[nltk_data] Downloading package stopwords to /root/nltk_data...\n",
            "[nltk_data]   Package stopwords is already up-to-date!\n"
          ]
        }
      ]
    },
    {
      "cell_type": "code",
      "metadata": {
        "colab": {
          "base_uri": "https://localhost:8080/"
        },
        "id": "DJxAAtUvzSHu",
        "outputId": "9d1604af-a8b8-45b4-ca58-ffb034ee0e88"
      },
      "source": [
        "df.headline = df.headline.apply(lambda x: remove_stopwords(x))\n",
        "df.headline.head(10)"
      ],
      "execution_count": null,
      "outputs": [
        {
          "output_type": "execute_result",
          "data": {
            "text/plain": [
              "0    [thirtysomethingscientistsunveildoomsdayclockhairloss]                \n",
              "1    [demreptotallynailscongressfallingshortgenderracialequality]          \n",
              "2    [eatveggies9deliciouslydifferentrecipes]                              \n",
              "3    [inclementweatherpreventsliargettingwork]                             \n",
              "4    [mothercomesprettycloseusingwordstreamingcorrectly]                   \n",
              "5    [whiteinheritance]                                                    \n",
              "6    [5waysfiletaxeslessstress]                                            \n",
              "7    [richardbransonsglobalwarmingdonationnearlymuchcostfailedballoontrips]\n",
              "8    [shadowgovernmentgettinglargemeetmarriottconferenceroomb]             \n",
              "9    [lotsparentsknowscenario]                                             \n",
              "Name: headline, dtype: object"
            ]
          },
          "metadata": {},
          "execution_count": 33
        }
      ]
    },
    {
      "cell_type": "code",
      "metadata": {
        "colab": {
          "base_uri": "https://localhost:8080/"
        },
        "id": "Cp52N5kVzdnG",
        "outputId": "7785548b-f18d-45d7-fa9e-e56746256f98"
      },
      "source": [
        "from nltk.stem import WordNetLemmatizer\n",
        "nltk.download('wordnet')\n",
        "lemmatizer = WordNetLemmatizer()\n",
        "\n",
        "def lemmatize(text):\n",
        "  lem_text = \" \".join([lemmatizer.lemmatize(word) for word in text])\n",
        "  return lem_text"
      ],
      "execution_count": null,
      "outputs": [
        {
          "output_type": "stream",
          "name": "stdout",
          "text": [
            "[nltk_data] Downloading package wordnet to /root/nltk_data...\n",
            "[nltk_data]   Unzipping corpora/wordnet.zip.\n"
          ]
        }
      ]
    },
    {
      "cell_type": "code",
      "metadata": {
        "colab": {
          "base_uri": "https://localhost:8080/"
        },
        "id": "y2KOGHCZ0ErK",
        "outputId": "0f64373d-9149-4236-c15c-95682df2276e"
      },
      "source": [
        "df['headline'] = df.headline.apply(lambda x : lemmatize(x))\n",
        "df.headline.head(10)"
      ],
      "execution_count": null,
      "outputs": [
        {
          "output_type": "execute_result",
          "data": {
            "text/plain": [
              "0    thirtysomethingscientistsunveildoomsdayclockhairloss                \n",
              "1    demreptotallynailscongressfallingshortgenderracialequality          \n",
              "2    eatveggies9deliciouslydifferentrecipes                              \n",
              "3    inclementweatherpreventsliargettingwork                             \n",
              "4    mothercomesprettycloseusingwordstreamingcorrectly                   \n",
              "5    whiteinheritance                                                    \n",
              "6    5waysfiletaxeslessstress                                            \n",
              "7    richardbransonsglobalwarmingdonationnearlymuchcostfailedballoontrips\n",
              "8    shadowgovernmentgettinglargemeetmarriottconferenceroomb             \n",
              "9    lotsparentsknowscenario                                             \n",
              "Name: headline, dtype: object"
            ]
          },
          "metadata": {},
          "execution_count": 35
        }
      ]
    },
    {
      "cell_type": "code",
      "metadata": {
        "id": "joSu4QQs0OyS",
        "colab": {
          "base_uri": "https://localhost:8080/"
        },
        "outputId": "d37bde84-04c2-4a31-c6aa-920ff5e2b34f"
      },
      "source": [
        "df['headline'].map(lambda x: re.sub('[^a-zA-Z]',\" \",x)).head(10)"
      ],
      "execution_count": null,
      "outputs": [
        {
          "output_type": "execute_result",
          "data": {
            "text/plain": [
              "0    thirtysomethingscientistsunveildoomsdayclockhairloss                \n",
              "1    demreptotallynailscongressfallingshortgenderracialequality          \n",
              "2    eatveggies deliciouslydifferentrecipes                              \n",
              "3    inclementweatherpreventsliargettingwork                             \n",
              "4    mothercomesprettycloseusingwordstreamingcorrectly                   \n",
              "5    whiteinheritance                                                    \n",
              "6     waysfiletaxeslessstress                                            \n",
              "7    richardbransonsglobalwarmingdonationnearlymuchcostfailedballoontrips\n",
              "8    shadowgovernmentgettinglargemeetmarriottconferenceroomb             \n",
              "9    lotsparentsknowscenario                                             \n",
              "Name: headline, dtype: object"
            ]
          },
          "metadata": {},
          "execution_count": 36
        }
      ]
    },
    {
      "cell_type": "code",
      "metadata": {
        "id": "FSN8Dl3_N3RX"
      },
      "source": [
        "df['headline'] = df.headline.map(lambda x: re.sub('[^a-zA-Z]',\" \",x))"
      ],
      "execution_count": null,
      "outputs": []
    },
    {
      "cell_type": "code",
      "metadata": {
        "id": "Bmbsw4DdOKMN"
      },
      "source": [
        "df.drop(['article_link'],axis=1,inplace=True)"
      ],
      "execution_count": null,
      "outputs": []
    },
    {
      "cell_type": "code",
      "metadata": {
        "id": "yzXXRLwsORHJ"
      },
      "source": [
        "from keras.preprocessing.text import Tokenizer\n",
        "from keras.preprocessing.sequence import pad_sequences"
      ],
      "execution_count": null,
      "outputs": []
    },
    {
      "cell_type": "code",
      "metadata": {
        "id": "sagYVGNKOgxm"
      },
      "source": [
        "max_features = 10000\n",
        "maxlen = 51 #max len of each sentence\n",
        "embedding_size = 100\n",
        "\n",
        "tokenizer = Tokenizer(num_words=max_features)\n",
        "tokenizer.fit_on_texts(list(df['headline']))\n",
        "X = tokenizer.texts_to_sequences(df['headline'])\n",
        "X = pad_sequences(X, maxlen = maxlen)\n",
        "y = df['is_sarcastic']\n",
        "word_index = tokenizer.word_index"
      ],
      "execution_count": null,
      "outputs": []
    },
    {
      "cell_type": "markdown",
      "metadata": {
        "id": "Nv9UW7JLPWGc"
      },
      "source": [
        "Sequences of Sentences are padded to maintain uniformity in the length of each sentence before passing them into RNN"
      ]
    },
    {
      "cell_type": "code",
      "metadata": {
        "id": "9OwXTYHfPQ4x"
      },
      "source": [
        "import os"
      ],
      "execution_count": null,
      "outputs": []
    },
    {
      "cell_type": "code",
      "metadata": {
        "id": "Embsds8lPg73"
      },
      "source": [
        "from tensorflow.keras.models import Model, Sequential\n",
        "from tensorflow.keras.layers import Dense, LSTM, Embedding, Dropout, Activation, Flatten, Bidirectional, GlobalMaxPool1D"
      ],
      "execution_count": null,
      "outputs": []
    },
    {
      "cell_type": "markdown",
      "metadata": {
        "id": "S7SXYKKSQDNG"
      },
      "source": [
        "Without Glove word Embeddings"
      ]
    },
    {
      "cell_type": "code",
      "metadata": {
        "colab": {
          "base_uri": "https://localhost:8080/"
        },
        "id": "cG_lywizP0Az",
        "outputId": "f37450ea-6c7e-4765-e3a3-4535185d9890"
      },
      "source": [
        "model = Sequential()\n",
        "model.add(Embedding(input_dim=len(word_index) + 1, output_dim=embedding_size,input_length=maxlen))\n",
        "model.add(Bidirectional(LSTM(128, return_sequences = True)))\n",
        "model.add(GlobalMaxPool1D())\n",
        "model.add(Dense(40,activation='relu'))\n",
        "model.add(Dropout(0.5))\n",
        "model.add(Dense(20,activation='relu'))\n",
        "model.add(Dropout(0.5))\n",
        "model.add(Dense(1,activation=\"sigmoid\"))\n",
        "model.summary()\n"
      ],
      "execution_count": null,
      "outputs": [
        {
          "output_type": "stream",
          "name": "stdout",
          "text": [
            "Model: \"sequential\"\n",
            "_________________________________________________________________\n",
            "Layer (type)                 Output Shape              Param #   \n",
            "=================================================================\n",
            "embedding (Embedding)        (None, 51, 100)           3080900   \n",
            "_________________________________________________________________\n",
            "bidirectional (Bidirectional (None, 51, 256)           234496    \n",
            "_________________________________________________________________\n",
            "global_max_pooling1d (Global (None, 256)               0         \n",
            "_________________________________________________________________\n",
            "dense (Dense)                (None, 40)                10280     \n",
            "_________________________________________________________________\n",
            "dropout (Dropout)            (None, 40)                0         \n",
            "_________________________________________________________________\n",
            "dense_1 (Dense)              (None, 20)                820       \n",
            "_________________________________________________________________\n",
            "dropout_1 (Dropout)          (None, 20)                0         \n",
            "_________________________________________________________________\n",
            "dense_2 (Dense)              (None, 1)                 21        \n",
            "=================================================================\n",
            "Total params: 3,326,517\n",
            "Trainable params: 3,326,517\n",
            "Non-trainable params: 0\n",
            "_________________________________________________________________\n"
          ]
        }
      ]
    },
    {
      "cell_type": "code",
      "metadata": {
        "colab": {
          "base_uri": "https://localhost:8080/"
        },
        "id": "RZzXFg4rRHuV",
        "outputId": "7a6243b3-decb-4fea-c4ab-fcb43e936125"
      },
      "source": [
        "model.compile(loss=\"binary_crossentropy\", optimizer='adam',metrics=['accuracy'])\n",
        "history = model.fit(X,y,validation_split=0.2,epochs=10,batch_size=128)"
      ],
      "execution_count": null,
      "outputs": [
        {
          "output_type": "stream",
          "name": "stdout",
          "text": [
            "Epoch 1/10\n",
            "179/179 [==============================] - 11s 39ms/step - loss: 0.6849 - accuracy: 0.5319 - val_loss: 0.6915 - val_accuracy: 0.5321\n",
            "Epoch 2/10\n",
            "179/179 [==============================] - 6s 34ms/step - loss: 0.6834 - accuracy: 0.5319 - val_loss: 0.6932 - val_accuracy: 0.5325\n",
            "Epoch 3/10\n",
            "179/179 [==============================] - 6s 34ms/step - loss: 0.6822 - accuracy: 0.5322 - val_loss: 0.6963 - val_accuracy: 0.5318\n",
            "Epoch 4/10\n",
            "179/179 [==============================] - 6s 34ms/step - loss: 0.6825 - accuracy: 0.5318 - val_loss: 0.6965 - val_accuracy: 0.5321\n",
            "Epoch 5/10\n",
            "179/179 [==============================] - 6s 34ms/step - loss: 0.6828 - accuracy: 0.5321 - val_loss: 0.6960 - val_accuracy: 0.5321\n",
            "Epoch 6/10\n",
            "179/179 [==============================] - 6s 34ms/step - loss: 0.6829 - accuracy: 0.5312 - val_loss: 0.6937 - val_accuracy: 0.5320\n",
            "Epoch 7/10\n",
            "179/179 [==============================] - 6s 34ms/step - loss: 0.6823 - accuracy: 0.5318 - val_loss: 0.6961 - val_accuracy: 0.5318\n",
            "Epoch 8/10\n",
            "179/179 [==============================] - 6s 34ms/step - loss: 0.6819 - accuracy: 0.5323 - val_loss: 0.6960 - val_accuracy: 0.5320\n",
            "Epoch 9/10\n",
            "179/179 [==============================] - 6s 33ms/step - loss: 0.6821 - accuracy: 0.5321 - val_loss: 0.6935 - val_accuracy: 0.5316\n",
            "Epoch 10/10\n",
            "179/179 [==============================] - 6s 33ms/step - loss: 0.6823 - accuracy: 0.5320 - val_loss: 0.6933 - val_accuracy: 0.5314\n"
          ]
        }
      ]
    },
    {
      "cell_type": "code",
      "metadata": {
        "colab": {
          "base_uri": "https://localhost:8080/",
          "height": 259
        },
        "id": "LkF2m-uHRrt3",
        "outputId": "16985347-21f9-4b56-cbe2-4768060c6703"
      },
      "source": [
        "import matplotlib.pyplot as plt\n",
        "\n",
        "fig,(ax1,ax2) = plt.subplots(1,2,figsize=(15,5))\n",
        "fig.suptitle(\"Performance without Glove Vectors\")\n",
        "ax1.plot(history.history['accuracy'])\n",
        "ax1.plot(history.history['val_accuracy'])\n",
        "vline_cut = np.where(history.history['val_accuracy'] == np.max(history.history['val_accuracy']))[0][0]\n",
        "ax1.axvline(x=vline_cut, color='k',linestyle=\"--\")\n",
        "ax1.set_title(\"Model accuracy\")\n",
        "ax1.legend(['train','test'])\n",
        "\n",
        "ax2.plot(history.history['loss'])\n",
        "ax2.plot(history.history['val_loss'])\n",
        "vline_cut = np.where(history.history['val_loss'] == np.min(history.history['val_loss']))[0][0]\n",
        "ax2.axvline(x=vline_cut, color='k',linestyle=\"--\")\n",
        "ax2.set_title(\"Model Loss\")\n",
        "ax2.legend(['train','test'])\n",
        "plt.show()"
      ],
      "execution_count": null,
      "outputs": [
        {
          "output_type": "display_data",
          "data": {
            "image/png": "[encoded data removed]",
            "text/plain": [
              "<Figure size 1080x360 with 2 Axes>"
            ]
          },
          "metadata": {
            "needs_background": "light"
          }
        }
      ]
    },
    {
      "cell_type": "markdown",
      "metadata": {
        "id": "x9rGrlTPTOct"
      },
      "source": [
        "With Glove Embeddings\n"
      ]
    },
    {
      "cell_type": "code",
      "metadata": {
        "id": "VR9ARzAnTK-D"
      },
      "source": [
        "GLOVE_DIR = '/content/drive/My Drive/Colab Notebooks/glove.6B.200d.txt'"
      ],
      "execution_count": null,
      "outputs": []
    },
    {
      "cell_type": "code",
      "metadata": {
        "colab": {
          "base_uri": "https://localhost:8080/"
        },
        "id": "NWGX-oNvW8UO",
        "outputId": "bab93d2f-fb4e-4eda-c1b7-fab7ad892780"
      },
      "source": [
        "embeddings_index = {}\n",
        "f = open(os.path.join(GLOVE_DIR))\n",
        "for line in f:\n",
        "  values = line.split()\n",
        "  word = values[0]\n",
        "  coefs = np.asarray(values[1:],dtype='float32')\n",
        "  embeddings_index[word] = coefs\n",
        "f.close()\n",
        "\n",
        "print(f\"Found {len(embeddings_index)} word vectors\")"
      ],
      "execution_count": null,
      "outputs": [
        {
          "output_type": "stream",
          "name": "stdout",
          "text": [
            "Found 400000 word vectors\n"
          ]
        }
      ]
    },
    {
      "cell_type": "code",
      "metadata": {
        "id": "J4oNyhpAXj78"
      },
      "source": [
        "embedding_size1 = 200\n",
        "embedding_matrix = np.zeros((len(word_index)+1,embedding_size1))\n",
        "for word, i in word_index.items():\n",
        "  embedding_vector = embeddings_index.get(word)\n",
        "  if embedding_vector is not None:\n",
        "    #words not found in embedding index will all be zero\n",
        "    embedding_matrix[i] = embedding_vector"
      ],
      "execution_count": null,
      "outputs": []
    },
    {
      "cell_type": "code",
      "metadata": {
        "colab": {
          "base_uri": "https://localhost:8080/"
        },
        "id": "yG1uUodfYYfB",
        "outputId": "cb3f8786-515d-4bcc-c9f1-2a4b0891035e"
      },
      "source": [
        "model = Sequential()\n",
        "model.add(Embedding(len(word_index) + 1, embedding_size1, weights=[embedding_matrix],input_length=maxlen,trainable=False))\n",
        "model.add(Bidirectional(LSTM(128, return_sequences = True)))\n",
        "model.add(GlobalMaxPool1D())\n",
        "model.add(Dense(40,activation='relu'))\n",
        "model.add(Dropout(0.5))\n",
        "model.add(Dense(20,activation='relu'))\n",
        "model.add(Dropout(0.5))\n",
        "model.add(Dense(1,activation='sigmoid'))\n",
        "model.summary()"
      ],
      "execution_count": null,
      "outputs": [
        {
          "output_type": "stream",
          "name": "stdout",
          "text": [
            "Model: \"sequential_4\"\n",
            "_________________________________________________________________\n",
            "Layer (type)                 Output Shape              Param #   \n",
            "=================================================================\n",
            "embedding_3 (Embedding)      (None, 51, 200)           6161800   \n",
            "_________________________________________________________________\n",
            "bidirectional_1 (Bidirection (None, 51, 256)           336896    \n",
            "_________________________________________________________________\n",
            "global_max_pooling1d_1 (Glob (None, 256)               0         \n",
            "_________________________________________________________________\n",
            "dense_3 (Dense)              (None, 40)                10280     \n",
            "_________________________________________________________________\n",
            "dropout_2 (Dropout)          (None, 40)                0         \n",
            "_________________________________________________________________\n",
            "dense_4 (Dense)              (None, 20)                820       \n",
            "_________________________________________________________________\n",
            "dropout_3 (Dropout)          (None, 20)                0         \n",
            "_________________________________________________________________\n",
            "dense_5 (Dense)              (None, 1)                 21        \n",
            "=================================================================\n",
            "Total params: 6,509,817\n",
            "Trainable params: 348,017\n",
            "Non-trainable params: 6,161,800\n",
            "_________________________________________________________________\n"
          ]
        }
      ]
    },
    {
      "cell_type": "code",
      "metadata": {
        "colab": {
          "base_uri": "https://localhost:8080/"
        },
        "id": "_ZbTNXWnZX6R",
        "outputId": "52534346-20dd-4651-df5f-fdbac9e3f730"
      },
      "source": [
        "model.compile(loss=\"binary_crossentropy\",optimizer='adam',metrics=['accuracy'])\n",
        "history = model.fit(X,y,validation_split=0.2,epochs=10,batch_size=128)"
      ],
      "execution_count": null,
      "outputs": [
        {
          "output_type": "stream",
          "name": "stdout",
          "text": [
            "Epoch 1/10\n",
            "179/179 [==============================] - 11s 40ms/step - loss: 0.6917 - accuracy: 0.5251 - val_loss: 0.6896 - val_accuracy: 0.5321\n",
            "Epoch 2/10\n",
            "179/179 [==============================] - 6s 34ms/step - loss: 0.6900 - accuracy: 0.5264 - val_loss: 0.6887 - val_accuracy: 0.5314\n",
            "Epoch 3/10\n",
            "179/179 [==============================] - 6s 34ms/step - loss: 0.6885 - accuracy: 0.5291 - val_loss: 0.6878 - val_accuracy: 0.5320\n",
            "Epoch 4/10\n",
            "179/179 [==============================] - 6s 34ms/step - loss: 0.6880 - accuracy: 0.5294 - val_loss: 0.6883 - val_accuracy: 0.5311\n",
            "Epoch 5/10\n",
            "179/179 [==============================] - 6s 33ms/step - loss: 0.6867 - accuracy: 0.5309 - val_loss: 0.6884 - val_accuracy: 0.5321\n",
            "Epoch 6/10\n",
            "179/179 [==============================] - 6s 33ms/step - loss: 0.6856 - accuracy: 0.5309 - val_loss: 0.6893 - val_accuracy: 0.5318\n",
            "Epoch 7/10\n",
            "179/179 [==============================] - 6s 34ms/step - loss: 0.6851 - accuracy: 0.5301 - val_loss: 0.6892 - val_accuracy: 0.5321\n",
            "Epoch 8/10\n",
            "179/179 [==============================] - 6s 33ms/step - loss: 0.6850 - accuracy: 0.5312 - val_loss: 0.6893 - val_accuracy: 0.5323\n",
            "Epoch 9/10\n",
            "179/179 [==============================] - 6s 34ms/step - loss: 0.6840 - accuracy: 0.5323 - val_loss: 0.6924 - val_accuracy: 0.5314\n",
            "Epoch 10/10\n",
            "179/179 [==============================] - 6s 34ms/step - loss: 0.6839 - accuracy: 0.5313 - val_loss: 0.7086 - val_accuracy: 0.5318\n"
          ]
        }
      ]
    },
    {
      "cell_type": "code",
      "metadata": {
        "colab": {
          "base_uri": "https://localhost:8080/",
          "height": 257
        },
        "id": "hiNUOU-ZaAy3",
        "outputId": "eef4a60c-0f55-43e6-bc27-070c3d0db2e7"
      },
      "source": [
        "fig,(ax1,ax2) = plt.subplots(1,2,figsize=(15,5))\n",
        "fig.suptitle(\"Performance with 200D Glove Vectors\")\n",
        "ax1.plot(history.history['accuracy'])\n",
        "ax1.plot(history.history['val_accuracy'])\n",
        "vline_cut = np.where(history.history['val_accuracy'] == np.max(history.history['val_accuracy']))[0][0]\n",
        "ax1.axvline(x=vline_cut, color='k',linestyle=\"--\")\n",
        "ax1.set_title(\"Model accuracy\")\n",
        "ax1.legend(['train','test'])\n",
        "\n",
        "ax2.plot(history.history['loss'])\n",
        "ax2.plot(history.history['val_loss'])\n",
        "vline_cut = np.where(history.history['val_loss'] == np.min(history.history['val_loss']))[0][0]\n",
        "ax2.axvline(x=vline_cut, color='k',linestyle=\"--\")\n",
        "ax2.set_title(\"Model Loss\")\n",
        "ax2.legend(['train','test'])\n",
        "plt.show()"
      ],
      "execution_count": null,
      "outputs": [
        {
          "output_type": "display_data",
          "data": {
            "image/png": "[encoded data removed]",
            "text/plain": [
              "<Figure size 1080x360 with 2 Axes>"
            ]
          },
          "metadata": {
            "needs_background": "light"
          }
        }
      ]
    },
    {
      "cell_type": "code",
      "metadata": {
        "id": "iV1gm61PdEaz"
      },
      "source": [
        ""
      ],
      "execution_count": null,
      "outputs": []
    }
  ]
}