{
 "cells": [
  {
   "cell_type": "code",
   "execution_count": 1,
   "id": "885eee35",
   "metadata": {},
   "outputs": [],
   "source": [
    "#Credit card Fraud Detection using CNN in TensorFlow 2.0\n",
    "#added max pool dropout, batch normalization to improvize accuracy\n",
    "#plot learning curve and with this learning curve how u can understand whether \n",
    "# ypur model is overfitting / underfitting"
   ]
  },
  {
   "cell_type": "code",
   "execution_count": 2,
   "id": "d67eb631",
   "metadata": {},
   "outputs": [
    {
     "name": "stdout",
     "output_type": "stream",
     "text": [
      "2.3.0\n"
     ]
    }
   ],
   "source": [
    "import tensorflow as tf\n",
    "from tensorflow import keras\n",
    "from tensorflow.keras import Sequential\n",
    "from tensorflow.keras.layers import Flatten, Dense, Dropout, BatchNormalization\n",
    "from tensorflow.keras.layers import Conv1D, MaxPool1D \n",
    "\n",
    "print(tf.__version__)"
   ]
  },
  {
   "cell_type": "code",
   "execution_count": 3,
   "id": "83008471",
   "metadata": {},
   "outputs": [],
   "source": [
    "import pandas as pd\n",
    "import numpy as np\n",
    "import seaborn as sns\n",
    "import matplotlib.pyplot as plt\n",
    "from sklearn.model_selection import train_test_split\n",
    "from sklearn.preprocessing import StandardScaler"
   ]
  },
  {
   "cell_type": "code",
   "execution_count": 4,
   "id": "49542809",
   "metadata": {},
   "outputs": [
    {
     "data": {
      "text/html": [
       "<div>\n",
       "<style scoped>\n",
       "    .dataframe tbody tr th:only-of-type {\n",
       "        vertical-align: middle;\n",
       "    }\n",
       "\n",
       "    .dataframe tbody tr th {\n",
       "        vertical-align: top;\n",
       "    }\n",
       "\n",
       "    .dataframe thead th {\n",
       "        text-align: right;\n",
       "    }\n",
       "</style>\n",
       "<table border=\"1\" class=\"dataframe\">\n",
       "  <thead>\n",
       "    <tr style=\"text-align: right;\">\n",
       "      <th></th>\n",
       "      <th>Time</th>\n",
       "      <th>V1</th>\n",
       "      <th>V2</th>\n",
       "      <th>V3</th>\n",
       "      <th>V4</th>\n",
       "      <th>V5</th>\n",
       "      <th>V6</th>\n",
       "      <th>V7</th>\n",
       "      <th>V8</th>\n",
       "      <th>V9</th>\n",
       "      <th>...</th>\n",
       "      <th>V21</th>\n",
       "      <th>V22</th>\n",
       "      <th>V23</th>\n",
       "      <th>V24</th>\n",
       "      <th>V25</th>\n",
       "      <th>V26</th>\n",
       "      <th>V27</th>\n",
       "      <th>V28</th>\n",
       "      <th>Amount</th>\n",
       "      <th>Class</th>\n",
       "    </tr>\n",
       "  </thead>\n",
       "  <tbody>\n",
       "    <tr>\n",
       "      <th>0</th>\n",
       "      <td>0.0</td>\n",
       "      <td>-1.359807</td>\n",
       "      <td>-0.072781</td>\n",
       "      <td>2.536347</td>\n",
       "      <td>1.378155</td>\n",
       "      <td>-0.338321</td>\n",
       "      <td>0.462388</td>\n",
       "      <td>0.239599</td>\n",
       "      <td>0.098698</td>\n",
       "      <td>0.363787</td>\n",
       "      <td>...</td>\n",
       "      <td>-0.018307</td>\n",
       "      <td>0.277838</td>\n",
       "      <td>-0.110474</td>\n",
       "      <td>0.066928</td>\n",
       "      <td>0.128539</td>\n",
       "      <td>-0.189115</td>\n",
       "      <td>0.133558</td>\n",
       "      <td>-0.021053</td>\n",
       "      <td>149.62</td>\n",
       "      <td>0</td>\n",
       "    </tr>\n",
       "    <tr>\n",
       "      <th>1</th>\n",
       "      <td>0.0</td>\n",
       "      <td>1.191857</td>\n",
       "      <td>0.266151</td>\n",
       "      <td>0.166480</td>\n",
       "      <td>0.448154</td>\n",
       "      <td>0.060018</td>\n",
       "      <td>-0.082361</td>\n",
       "      <td>-0.078803</td>\n",
       "      <td>0.085102</td>\n",
       "      <td>-0.255425</td>\n",
       "      <td>...</td>\n",
       "      <td>-0.225775</td>\n",
       "      <td>-0.638672</td>\n",
       "      <td>0.101288</td>\n",
       "      <td>-0.339846</td>\n",
       "      <td>0.167170</td>\n",
       "      <td>0.125895</td>\n",
       "      <td>-0.008983</td>\n",
       "      <td>0.014724</td>\n",
       "      <td>2.69</td>\n",
       "      <td>0</td>\n",
       "    </tr>\n",
       "    <tr>\n",
       "      <th>2</th>\n",
       "      <td>1.0</td>\n",
       "      <td>-1.358354</td>\n",
       "      <td>-1.340163</td>\n",
       "      <td>1.773209</td>\n",
       "      <td>0.379780</td>\n",
       "      <td>-0.503198</td>\n",
       "      <td>1.800499</td>\n",
       "      <td>0.791461</td>\n",
       "      <td>0.247676</td>\n",
       "      <td>-1.514654</td>\n",
       "      <td>...</td>\n",
       "      <td>0.247998</td>\n",
       "      <td>0.771679</td>\n",
       "      <td>0.909412</td>\n",
       "      <td>-0.689281</td>\n",
       "      <td>-0.327642</td>\n",
       "      <td>-0.139097</td>\n",
       "      <td>-0.055353</td>\n",
       "      <td>-0.059752</td>\n",
       "      <td>378.66</td>\n",
       "      <td>0</td>\n",
       "    </tr>\n",
       "    <tr>\n",
       "      <th>3</th>\n",
       "      <td>1.0</td>\n",
       "      <td>-0.966272</td>\n",
       "      <td>-0.185226</td>\n",
       "      <td>1.792993</td>\n",
       "      <td>-0.863291</td>\n",
       "      <td>-0.010309</td>\n",
       "      <td>1.247203</td>\n",
       "      <td>0.237609</td>\n",
       "      <td>0.377436</td>\n",
       "      <td>-1.387024</td>\n",
       "      <td>...</td>\n",
       "      <td>-0.108300</td>\n",
       "      <td>0.005274</td>\n",
       "      <td>-0.190321</td>\n",
       "      <td>-1.175575</td>\n",
       "      <td>0.647376</td>\n",
       "      <td>-0.221929</td>\n",
       "      <td>0.062723</td>\n",
       "      <td>0.061458</td>\n",
       "      <td>123.50</td>\n",
       "      <td>0</td>\n",
       "    </tr>\n",
       "    <tr>\n",
       "      <th>4</th>\n",
       "      <td>2.0</td>\n",
       "      <td>-1.158233</td>\n",
       "      <td>0.877737</td>\n",
       "      <td>1.548718</td>\n",
       "      <td>0.403034</td>\n",
       "      <td>-0.407193</td>\n",
       "      <td>0.095921</td>\n",
       "      <td>0.592941</td>\n",
       "      <td>-0.270533</td>\n",
       "      <td>0.817739</td>\n",
       "      <td>...</td>\n",
       "      <td>-0.009431</td>\n",
       "      <td>0.798278</td>\n",
       "      <td>-0.137458</td>\n",
       "      <td>0.141267</td>\n",
       "      <td>-0.206010</td>\n",
       "      <td>0.502292</td>\n",
       "      <td>0.219422</td>\n",
       "      <td>0.215153</td>\n",
       "      <td>69.99</td>\n",
       "      <td>0</td>\n",
       "    </tr>\n",
       "  </tbody>\n",
       "</table>\n",
       "<p>5 rows × 31 columns</p>\n",
       "</div>"
      ],
      "text/plain": [
       "   Time        V1        V2        V3        V4        V5        V6        V7  \\\n",
       "0   0.0 -1.359807 -0.072781  2.536347  1.378155 -0.338321  0.462388  0.239599   \n",
       "1   0.0  1.191857  0.266151  0.166480  0.448154  0.060018 -0.082361 -0.078803   \n",
       "2   1.0 -1.358354 -1.340163  1.773209  0.379780 -0.503198  1.800499  0.791461   \n",
       "3   1.0 -0.966272 -0.185226  1.792993 -0.863291 -0.010309  1.247203  0.237609   \n",
       "4   2.0 -1.158233  0.877737  1.548718  0.403034 -0.407193  0.095921  0.592941   \n",
       "\n",
       "         V8        V9  ...       V21       V22       V23       V24       V25  \\\n",
       "0  0.098698  0.363787  ... -0.018307  0.277838 -0.110474  0.066928  0.128539   \n",
       "1  0.085102 -0.255425  ... -0.225775 -0.638672  0.101288 -0.339846  0.167170   \n",
       "2  0.247676 -1.514654  ...  0.247998  0.771679  0.909412 -0.689281 -0.327642   \n",
       "3  0.377436 -1.387024  ... -0.108300  0.005274 -0.190321 -1.175575  0.647376   \n",
       "4 -0.270533  0.817739  ... -0.009431  0.798278 -0.137458  0.141267 -0.206010   \n",
       "\n",
       "        V26       V27       V28  Amount  Class  \n",
       "0 -0.189115  0.133558 -0.021053  149.62      0  \n",
       "1  0.125895 -0.008983  0.014724    2.69      0  \n",
       "2 -0.139097 -0.055353 -0.059752  378.66      0  \n",
       "3 -0.221929  0.062723  0.061458  123.50      0  \n",
       "4  0.502292  0.219422  0.215153   69.99      0  \n",
       "\n",
       "[5 rows x 31 columns]"
      ]
     },
     "execution_count": 4,
     "metadata": {},
     "output_type": "execute_result"
    }
   ],
   "source": [
    "df = pd.read_csv(\"creditcard.csv\")\n",
    "df.head()"
   ]
  },
  {
   "cell_type": "code",
   "execution_count": 5,
   "id": "e2b43497",
   "metadata": {},
   "outputs": [
    {
     "data": {
      "text/plain": [
       "(284807, 31)"
      ]
     },
     "execution_count": 5,
     "metadata": {},
     "output_type": "execute_result"
    }
   ],
   "source": [
    "df.shape"
   ]
  },
  {
   "cell_type": "code",
   "execution_count": 6,
   "id": "00a55509",
   "metadata": {},
   "outputs": [
    {
     "data": {
      "text/plain": [
       "Time      0\n",
       "V1        0\n",
       "V2        0\n",
       "V3        0\n",
       "V4        0\n",
       "V5        0\n",
       "V6        0\n",
       "V7        0\n",
       "V8        0\n",
       "V9        0\n",
       "V10       0\n",
       "V11       0\n",
       "V12       0\n",
       "V13       0\n",
       "V14       0\n",
       "V15       0\n",
       "V16       0\n",
       "V17       0\n",
       "V18       0\n",
       "V19       0\n",
       "V20       0\n",
       "V21       0\n",
       "V22       0\n",
       "V23       0\n",
       "V24       0\n",
       "V25       0\n",
       "V26       0\n",
       "V27       0\n",
       "V28       0\n",
       "Amount    0\n",
       "Class     0\n",
       "dtype: int64"
      ]
     },
     "execution_count": 6,
     "metadata": {},
     "output_type": "execute_result"
    }
   ],
   "source": [
    "df.isnull().sum()"
   ]
  },
  {
   "cell_type": "code",
   "execution_count": 7,
   "id": "492ae1a6",
   "metadata": {},
   "outputs": [
    {
     "name": "stdout",
     "output_type": "stream",
     "text": [
      "<class 'pandas.core.frame.DataFrame'>\n",
      "RangeIndex: 284807 entries, 0 to 284806\n",
      "Data columns (total 31 columns):\n",
      " #   Column  Non-Null Count   Dtype  \n",
      "---  ------  --------------   -----  \n",
      " 0   Time    284807 non-null  float64\n",
      " 1   V1      284807 non-null  float64\n",
      " 2   V2      284807 non-null  float64\n",
      " 3   V3      284807 non-null  float64\n",
      " 4   V4      284807 non-null  float64\n",
      " 5   V5      284807 non-null  float64\n",
      " 6   V6      284807 non-null  float64\n",
      " 7   V7      284807 non-null  float64\n",
      " 8   V8      284807 non-null  float64\n",
      " 9   V9      284807 non-null  float64\n",
      " 10  V10     284807 non-null  float64\n",
      " 11  V11     284807 non-null  float64\n",
      " 12  V12     284807 non-null  float64\n",
      " 13  V13     284807 non-null  float64\n",
      " 14  V14     284807 non-null  float64\n",
      " 15  V15     284807 non-null  float64\n",
      " 16  V16     284807 non-null  float64\n",
      " 17  V17     284807 non-null  float64\n",
      " 18  V18     284807 non-null  float64\n",
      " 19  V19     284807 non-null  float64\n",
      " 20  V20     284807 non-null  float64\n",
      " 21  V21     284807 non-null  float64\n",
      " 22  V22     284807 non-null  float64\n",
      " 23  V23     284807 non-null  float64\n",
      " 24  V24     284807 non-null  float64\n",
      " 25  V25     284807 non-null  float64\n",
      " 26  V26     284807 non-null  float64\n",
      " 27  V27     284807 non-null  float64\n",
      " 28  V28     284807 non-null  float64\n",
      " 29  Amount  284807 non-null  float64\n",
      " 30  Class   284807 non-null  int64  \n",
      "dtypes: float64(30), int64(1)\n",
      "memory usage: 67.4 MB\n"
     ]
    }
   ],
   "source": [
    "df.info()"
   ]
  },
  {
   "cell_type": "code",
   "execution_count": 8,
   "id": "53d3a1e7",
   "metadata": {},
   "outputs": [
    {
     "data": {
      "text/plain": [
       "0    284315\n",
       "1       492\n",
       "Name: Class, dtype: int64"
      ]
     },
     "execution_count": 8,
     "metadata": {},
     "output_type": "execute_result"
    }
   ],
   "source": [
    "df['Class'].value_counts()"
   ]
  },
  {
   "cell_type": "markdown",
   "id": "81b021ea",
   "metadata": {},
   "source": [
    "<h3>Balance Dataset</h3>"
   ]
  },
  {
   "cell_type": "code",
   "execution_count": 10,
   "id": "47c9cbfa",
   "metadata": {},
   "outputs": [
    {
     "data": {
      "text/plain": [
       "((284315, 31), (492, 31))"
      ]
     },
     "execution_count": 10,
     "metadata": {},
     "output_type": "execute_result"
    }
   ],
   "source": [
    "non_fraud = df[df['Class']==0]\n",
    "fraud = df[df['Class']==1]\n",
    "non_fraud.shape, fraud.shape"
   ]
  },
  {
   "cell_type": "code",
   "execution_count": 11,
   "id": "9086580c",
   "metadata": {},
   "outputs": [
    {
     "data": {
      "text/plain": [
       "(492, 31)"
      ]
     },
     "execution_count": 11,
     "metadata": {},
     "output_type": "execute_result"
    }
   ],
   "source": [
    "non_fraud = non_fraud.sample(fraud.shape[0])\n",
    "non_fraud.shape"
   ]
  },
  {
   "cell_type": "code",
   "execution_count": 13,
   "id": "0fe0f6e0",
   "metadata": {},
   "outputs": [],
   "source": [
    "df = fraud.append(non_fraud,ignore_index=True)"
   ]
  },
  {
   "cell_type": "code",
   "execution_count": 14,
   "id": "ee5d6083",
   "metadata": {},
   "outputs": [
    {
     "data": {
      "text/html": [
       "<div>\n",
       "<style scoped>\n",
       "    .dataframe tbody tr th:only-of-type {\n",
       "        vertical-align: middle;\n",
       "    }\n",
       "\n",
       "    .dataframe tbody tr th {\n",
       "        vertical-align: top;\n",
       "    }\n",
       "\n",
       "    .dataframe thead th {\n",
       "        text-align: right;\n",
       "    }\n",
       "</style>\n",
       "<table border=\"1\" class=\"dataframe\">\n",
       "  <thead>\n",
       "    <tr style=\"text-align: right;\">\n",
       "      <th></th>\n",
       "      <th>Time</th>\n",
       "      <th>V1</th>\n",
       "      <th>V2</th>\n",
       "      <th>V3</th>\n",
       "      <th>V4</th>\n",
       "      <th>V5</th>\n",
       "      <th>V6</th>\n",
       "      <th>V7</th>\n",
       "      <th>V8</th>\n",
       "      <th>V9</th>\n",
       "      <th>...</th>\n",
       "      <th>V21</th>\n",
       "      <th>V22</th>\n",
       "      <th>V23</th>\n",
       "      <th>V24</th>\n",
       "      <th>V25</th>\n",
       "      <th>V26</th>\n",
       "      <th>V27</th>\n",
       "      <th>V28</th>\n",
       "      <th>Amount</th>\n",
       "      <th>Class</th>\n",
       "    </tr>\n",
       "  </thead>\n",
       "  <tbody>\n",
       "    <tr>\n",
       "      <th>0</th>\n",
       "      <td>406.0</td>\n",
       "      <td>-2.312227</td>\n",
       "      <td>1.951992</td>\n",
       "      <td>-1.609851</td>\n",
       "      <td>3.997906</td>\n",
       "      <td>-0.522188</td>\n",
       "      <td>-1.426545</td>\n",
       "      <td>-2.537387</td>\n",
       "      <td>1.391657</td>\n",
       "      <td>-2.770089</td>\n",
       "      <td>...</td>\n",
       "      <td>0.517232</td>\n",
       "      <td>-0.035049</td>\n",
       "      <td>-0.465211</td>\n",
       "      <td>0.320198</td>\n",
       "      <td>0.044519</td>\n",
       "      <td>0.177840</td>\n",
       "      <td>0.261145</td>\n",
       "      <td>-0.143276</td>\n",
       "      <td>0.00</td>\n",
       "      <td>1</td>\n",
       "    </tr>\n",
       "    <tr>\n",
       "      <th>1</th>\n",
       "      <td>472.0</td>\n",
       "      <td>-3.043541</td>\n",
       "      <td>-3.157307</td>\n",
       "      <td>1.088463</td>\n",
       "      <td>2.288644</td>\n",
       "      <td>1.359805</td>\n",
       "      <td>-1.064823</td>\n",
       "      <td>0.325574</td>\n",
       "      <td>-0.067794</td>\n",
       "      <td>-0.270953</td>\n",
       "      <td>...</td>\n",
       "      <td>0.661696</td>\n",
       "      <td>0.435477</td>\n",
       "      <td>1.375966</td>\n",
       "      <td>-0.293803</td>\n",
       "      <td>0.279798</td>\n",
       "      <td>-0.145362</td>\n",
       "      <td>-0.252773</td>\n",
       "      <td>0.035764</td>\n",
       "      <td>529.00</td>\n",
       "      <td>1</td>\n",
       "    </tr>\n",
       "    <tr>\n",
       "      <th>2</th>\n",
       "      <td>4462.0</td>\n",
       "      <td>-2.303350</td>\n",
       "      <td>1.759247</td>\n",
       "      <td>-0.359745</td>\n",
       "      <td>2.330243</td>\n",
       "      <td>-0.821628</td>\n",
       "      <td>-0.075788</td>\n",
       "      <td>0.562320</td>\n",
       "      <td>-0.399147</td>\n",
       "      <td>-0.238253</td>\n",
       "      <td>...</td>\n",
       "      <td>-0.294166</td>\n",
       "      <td>-0.932391</td>\n",
       "      <td>0.172726</td>\n",
       "      <td>-0.087330</td>\n",
       "      <td>-0.156114</td>\n",
       "      <td>-0.542628</td>\n",
       "      <td>0.039566</td>\n",
       "      <td>-0.153029</td>\n",
       "      <td>239.93</td>\n",
       "      <td>1</td>\n",
       "    </tr>\n",
       "    <tr>\n",
       "      <th>3</th>\n",
       "      <td>6986.0</td>\n",
       "      <td>-4.397974</td>\n",
       "      <td>1.358367</td>\n",
       "      <td>-2.592844</td>\n",
       "      <td>2.679787</td>\n",
       "      <td>-1.128131</td>\n",
       "      <td>-1.706536</td>\n",
       "      <td>-3.496197</td>\n",
       "      <td>-0.248778</td>\n",
       "      <td>-0.247768</td>\n",
       "      <td>...</td>\n",
       "      <td>0.573574</td>\n",
       "      <td>0.176968</td>\n",
       "      <td>-0.436207</td>\n",
       "      <td>-0.053502</td>\n",
       "      <td>0.252405</td>\n",
       "      <td>-0.657488</td>\n",
       "      <td>-0.827136</td>\n",
       "      <td>0.849573</td>\n",
       "      <td>59.00</td>\n",
       "      <td>1</td>\n",
       "    </tr>\n",
       "    <tr>\n",
       "      <th>4</th>\n",
       "      <td>7519.0</td>\n",
       "      <td>1.234235</td>\n",
       "      <td>3.019740</td>\n",
       "      <td>-4.304597</td>\n",
       "      <td>4.732795</td>\n",
       "      <td>3.624201</td>\n",
       "      <td>-1.357746</td>\n",
       "      <td>1.713445</td>\n",
       "      <td>-0.496358</td>\n",
       "      <td>-1.282858</td>\n",
       "      <td>...</td>\n",
       "      <td>-0.379068</td>\n",
       "      <td>-0.704181</td>\n",
       "      <td>-0.656805</td>\n",
       "      <td>-1.632653</td>\n",
       "      <td>1.488901</td>\n",
       "      <td>0.566797</td>\n",
       "      <td>-0.010016</td>\n",
       "      <td>0.146793</td>\n",
       "      <td>1.00</td>\n",
       "      <td>1</td>\n",
       "    </tr>\n",
       "    <tr>\n",
       "      <th>...</th>\n",
       "      <td>...</td>\n",
       "      <td>...</td>\n",
       "      <td>...</td>\n",
       "      <td>...</td>\n",
       "      <td>...</td>\n",
       "      <td>...</td>\n",
       "      <td>...</td>\n",
       "      <td>...</td>\n",
       "      <td>...</td>\n",
       "      <td>...</td>\n",
       "      <td>...</td>\n",
       "      <td>...</td>\n",
       "      <td>...</td>\n",
       "      <td>...</td>\n",
       "      <td>...</td>\n",
       "      <td>...</td>\n",
       "      <td>...</td>\n",
       "      <td>...</td>\n",
       "      <td>...</td>\n",
       "      <td>...</td>\n",
       "      <td>...</td>\n",
       "    </tr>\n",
       "    <tr>\n",
       "      <th>979</th>\n",
       "      <td>47010.0</td>\n",
       "      <td>-0.448961</td>\n",
       "      <td>0.896684</td>\n",
       "      <td>2.341584</td>\n",
       "      <td>2.888895</td>\n",
       "      <td>0.303901</td>\n",
       "      <td>0.442783</td>\n",
       "      <td>0.462225</td>\n",
       "      <td>-0.002784</td>\n",
       "      <td>-0.817467</td>\n",
       "      <td>...</td>\n",
       "      <td>-0.307860</td>\n",
       "      <td>-0.710538</td>\n",
       "      <td>-0.208559</td>\n",
       "      <td>-0.167136</td>\n",
       "      <td>0.077391</td>\n",
       "      <td>0.111677</td>\n",
       "      <td>-0.085532</td>\n",
       "      <td>-0.137062</td>\n",
       "      <td>13.76</td>\n",
       "      <td>0</td>\n",
       "    </tr>\n",
       "    <tr>\n",
       "      <th>980</th>\n",
       "      <td>72193.0</td>\n",
       "      <td>-0.448972</td>\n",
       "      <td>0.597013</td>\n",
       "      <td>1.177152</td>\n",
       "      <td>-1.357538</td>\n",
       "      <td>-1.371519</td>\n",
       "      <td>-1.352359</td>\n",
       "      <td>-0.065869</td>\n",
       "      <td>0.181118</td>\n",
       "      <td>0.659703</td>\n",
       "      <td>...</td>\n",
       "      <td>0.129361</td>\n",
       "      <td>0.377922</td>\n",
       "      <td>0.223121</td>\n",
       "      <td>0.982830</td>\n",
       "      <td>-0.572148</td>\n",
       "      <td>-0.129418</td>\n",
       "      <td>-0.140857</td>\n",
       "      <td>-0.024956</td>\n",
       "      <td>36.50</td>\n",
       "      <td>0</td>\n",
       "    </tr>\n",
       "    <tr>\n",
       "      <th>981</th>\n",
       "      <td>84524.0</td>\n",
       "      <td>1.367925</td>\n",
       "      <td>-0.540061</td>\n",
       "      <td>0.337732</td>\n",
       "      <td>-0.764199</td>\n",
       "      <td>-0.806632</td>\n",
       "      <td>-0.419428</td>\n",
       "      <td>-0.508571</td>\n",
       "      <td>-0.183421</td>\n",
       "      <td>-0.850676</td>\n",
       "      <td>...</td>\n",
       "      <td>-0.628214</td>\n",
       "      <td>-1.388627</td>\n",
       "      <td>0.109795</td>\n",
       "      <td>-0.441735</td>\n",
       "      <td>0.025678</td>\n",
       "      <td>0.790195</td>\n",
       "      <td>-0.042053</td>\n",
       "      <td>0.018793</td>\n",
       "      <td>41.90</td>\n",
       "      <td>0</td>\n",
       "    </tr>\n",
       "    <tr>\n",
       "      <th>982</th>\n",
       "      <td>172333.0</td>\n",
       "      <td>-0.772799</td>\n",
       "      <td>1.565483</td>\n",
       "      <td>-1.676630</td>\n",
       "      <td>-0.858090</td>\n",
       "      <td>0.777246</td>\n",
       "      <td>-0.037314</td>\n",
       "      <td>0.144481</td>\n",
       "      <td>0.963798</td>\n",
       "      <td>-0.368072</td>\n",
       "      <td>...</td>\n",
       "      <td>-0.308379</td>\n",
       "      <td>-0.969788</td>\n",
       "      <td>0.061001</td>\n",
       "      <td>-0.519626</td>\n",
       "      <td>-0.218552</td>\n",
       "      <td>0.169274</td>\n",
       "      <td>0.090193</td>\n",
       "      <td>-0.022253</td>\n",
       "      <td>17.48</td>\n",
       "      <td>0</td>\n",
       "    </tr>\n",
       "    <tr>\n",
       "      <th>983</th>\n",
       "      <td>76475.0</td>\n",
       "      <td>-1.004046</td>\n",
       "      <td>1.053270</td>\n",
       "      <td>1.093808</td>\n",
       "      <td>-0.591014</td>\n",
       "      <td>0.516087</td>\n",
       "      <td>-0.415980</td>\n",
       "      <td>0.476134</td>\n",
       "      <td>0.305124</td>\n",
       "      <td>-0.844857</td>\n",
       "      <td>...</td>\n",
       "      <td>-0.198036</td>\n",
       "      <td>-0.798085</td>\n",
       "      <td>-0.105299</td>\n",
       "      <td>-0.624258</td>\n",
       "      <td>-0.033219</td>\n",
       "      <td>-0.054535</td>\n",
       "      <td>-0.066880</td>\n",
       "      <td>0.004584</td>\n",
       "      <td>14.95</td>\n",
       "      <td>0</td>\n",
       "    </tr>\n",
       "  </tbody>\n",
       "</table>\n",
       "<p>984 rows × 31 columns</p>\n",
       "</div>"
      ],
      "text/plain": [
       "         Time        V1        V2        V3        V4        V5        V6  \\\n",
       "0       406.0 -2.312227  1.951992 -1.609851  3.997906 -0.522188 -1.426545   \n",
       "1       472.0 -3.043541 -3.157307  1.088463  2.288644  1.359805 -1.064823   \n",
       "2      4462.0 -2.303350  1.759247 -0.359745  2.330243 -0.821628 -0.075788   \n",
       "3      6986.0 -4.397974  1.358367 -2.592844  2.679787 -1.128131 -1.706536   \n",
       "4      7519.0  1.234235  3.019740 -4.304597  4.732795  3.624201 -1.357746   \n",
       "..        ...       ...       ...       ...       ...       ...       ...   \n",
       "979   47010.0 -0.448961  0.896684  2.341584  2.888895  0.303901  0.442783   \n",
       "980   72193.0 -0.448972  0.597013  1.177152 -1.357538 -1.371519 -1.352359   \n",
       "981   84524.0  1.367925 -0.540061  0.337732 -0.764199 -0.806632 -0.419428   \n",
       "982  172333.0 -0.772799  1.565483 -1.676630 -0.858090  0.777246 -0.037314   \n",
       "983   76475.0 -1.004046  1.053270  1.093808 -0.591014  0.516087 -0.415980   \n",
       "\n",
       "           V7        V8        V9  ...       V21       V22       V23  \\\n",
       "0   -2.537387  1.391657 -2.770089  ...  0.517232 -0.035049 -0.465211   \n",
       "1    0.325574 -0.067794 -0.270953  ...  0.661696  0.435477  1.375966   \n",
       "2    0.562320 -0.399147 -0.238253  ... -0.294166 -0.932391  0.172726   \n",
       "3   -3.496197 -0.248778 -0.247768  ...  0.573574  0.176968 -0.436207   \n",
       "4    1.713445 -0.496358 -1.282858  ... -0.379068 -0.704181 -0.656805   \n",
       "..        ...       ...       ...  ...       ...       ...       ...   \n",
       "979  0.462225 -0.002784 -0.817467  ... -0.307860 -0.710538 -0.208559   \n",
       "980 -0.065869  0.181118  0.659703  ...  0.129361  0.377922  0.223121   \n",
       "981 -0.508571 -0.183421 -0.850676  ... -0.628214 -1.388627  0.109795   \n",
       "982  0.144481  0.963798 -0.368072  ... -0.308379 -0.969788  0.061001   \n",
       "983  0.476134  0.305124 -0.844857  ... -0.198036 -0.798085 -0.105299   \n",
       "\n",
       "          V24       V25       V26       V27       V28  Amount  Class  \n",
       "0    0.320198  0.044519  0.177840  0.261145 -0.143276    0.00      1  \n",
       "1   -0.293803  0.279798 -0.145362 -0.252773  0.035764  529.00      1  \n",
       "2   -0.087330 -0.156114 -0.542628  0.039566 -0.153029  239.93      1  \n",
       "3   -0.053502  0.252405 -0.657488 -0.827136  0.849573   59.00      1  \n",
       "4   -1.632653  1.488901  0.566797 -0.010016  0.146793    1.00      1  \n",
       "..        ...       ...       ...       ...       ...     ...    ...  \n",
       "979 -0.167136  0.077391  0.111677 -0.085532 -0.137062   13.76      0  \n",
       "980  0.982830 -0.572148 -0.129418 -0.140857 -0.024956   36.50      0  \n",
       "981 -0.441735  0.025678  0.790195 -0.042053  0.018793   41.90      0  \n",
       "982 -0.519626 -0.218552  0.169274  0.090193 -0.022253   17.48      0  \n",
       "983 -0.624258 -0.033219 -0.054535 -0.066880  0.004584   14.95      0  \n",
       "\n",
       "[984 rows x 31 columns]"
      ]
     },
     "execution_count": 14,
     "metadata": {},
     "output_type": "execute_result"
    }
   ],
   "source": [
    "df"
   ]
  },
  {
   "cell_type": "code",
   "execution_count": 15,
   "id": "064b3c60",
   "metadata": {},
   "outputs": [
    {
     "data": {
      "text/plain": [
       "0    492\n",
       "1    492\n",
       "Name: Class, dtype: int64"
      ]
     },
     "execution_count": 15,
     "metadata": {},
     "output_type": "execute_result"
    }
   ],
   "source": [
    "df['Class'].value_counts()"
   ]
  },
  {
   "cell_type": "code",
   "execution_count": 16,
   "id": "0e5238cf",
   "metadata": {},
   "outputs": [],
   "source": [
    "X = df.drop('Class',axis=1)\n",
    "y = df['Class']"
   ]
  },
  {
   "cell_type": "code",
   "execution_count": 17,
   "id": "b0b89b0c",
   "metadata": {},
   "outputs": [],
   "source": [
    "X_train,X_test,y_train,y_test = train_test_split(X,y,test_size=0.2,random_state=0,stratify=y)"
   ]
  },
  {
   "cell_type": "code",
   "execution_count": 18,
   "id": "91320498",
   "metadata": {},
   "outputs": [
    {
     "data": {
      "text/plain": [
       "((787, 30), (197, 30))"
      ]
     },
     "execution_count": 18,
     "metadata": {},
     "output_type": "execute_result"
    }
   ],
   "source": [
    "X_train.shape, X_test.shape"
   ]
  },
  {
   "cell_type": "code",
   "execution_count": 20,
   "id": "71195f2d",
   "metadata": {},
   "outputs": [],
   "source": [
    "scaler = StandardScaler()\n",
    "X_train = scaler.fit_transform(X_train)\n",
    "X_test = scaler.transform(X_test)"
   ]
  },
  {
   "cell_type": "code",
   "execution_count": 21,
   "id": "62169a9b",
   "metadata": {},
   "outputs": [],
   "source": [
    "y_train = y_train.to_numpy()\n",
    "y_test = y_test.to_numpy()"
   ]
  },
  {
   "cell_type": "code",
   "execution_count": 22,
   "id": "311c375d",
   "metadata": {},
   "outputs": [],
   "source": [
    "X_train = X_train.reshape(X_train.shape[0],X_train.shape[1],1)\n",
    "X_test = X_test.reshape(X_test.shape[0],X_test.shape[1],1)"
   ]
  },
  {
   "cell_type": "code",
   "execution_count": 23,
   "id": "e5f9f368",
   "metadata": {},
   "outputs": [
    {
     "data": {
      "text/plain": [
       "((787, 30, 1), (197, 30, 1))"
      ]
     },
     "execution_count": 23,
     "metadata": {},
     "output_type": "execute_result"
    }
   ],
   "source": [
    "X_train.shape,X_test.shape"
   ]
  },
  {
   "cell_type": "markdown",
   "id": "c886afcd",
   "metadata": {},
   "source": [
    "<h3>Build CNN</h3>"
   ]
  },
  {
   "cell_type": "code",
   "execution_count": 25,
   "id": "f4f8db48",
   "metadata": {},
   "outputs": [],
   "source": [
    "epochs = 20\n",
    "model = Sequential()\n",
    "model.add(Conv1D(32,2,activation='relu',input_shape=X_train[0].shape))\n",
    "model.add(BatchNormalization())\n",
    "model.add(Dropout(0.2))\n",
    "\n",
    "model.add(Conv1D(64,2,activation='relu'))\n",
    "model.add(BatchNormalization())\n",
    "model.add(Dropout(0.5))\n",
    "\n",
    "model.add(Flatten())\n",
    "model.add(Dense(64,activation='relu'))\n",
    "model.add(Dropout(0.5))\n",
    "\n",
    "model.add(Dense(1,activation='sigmoid'))"
   ]
  },
  {
   "cell_type": "code",
   "execution_count": 26,
   "id": "b74a56d9",
   "metadata": {},
   "outputs": [
    {
     "name": "stdout",
     "output_type": "stream",
     "text": [
      "Model: \"sequential_1\"\n",
      "_________________________________________________________________\n",
      "Layer (type)                 Output Shape              Param #   \n",
      "=================================================================\n",
      "conv1d_1 (Conv1D)            (None, 29, 32)            96        \n",
      "_________________________________________________________________\n",
      "batch_normalization (BatchNo (None, 29, 32)            128       \n",
      "_________________________________________________________________\n",
      "dropout (Dropout)            (None, 29, 32)            0         \n",
      "_________________________________________________________________\n",
      "conv1d_2 (Conv1D)            (None, 28, 64)            4160      \n",
      "_________________________________________________________________\n",
      "batch_normalization_1 (Batch (None, 28, 64)            256       \n",
      "_________________________________________________________________\n",
      "dropout_1 (Dropout)          (None, 28, 64)            0         \n",
      "_________________________________________________________________\n",
      "flatten (Flatten)            (None, 1792)              0         \n",
      "_________________________________________________________________\n",
      "dense (Dense)                (None, 64)                114752    \n",
      "_________________________________________________________________\n",
      "dropout_2 (Dropout)          (None, 64)                0         \n",
      "_________________________________________________________________\n",
      "dense_1 (Dense)              (None, 1)                 65        \n",
      "=================================================================\n",
      "Total params: 119,457\n",
      "Trainable params: 119,265\n",
      "Non-trainable params: 192\n",
      "_________________________________________________________________\n"
     ]
    }
   ],
   "source": [
    "model.summary()"
   ]
  },
  {
   "cell_type": "code",
   "execution_count": 27,
   "id": "7c709ed0",
   "metadata": {},
   "outputs": [],
   "source": [
    "from tensorflow.keras.optimizers import Adam\n",
    "model.compile(optimizer=Adam(lr=0.0001),loss=\"binary_crossentropy\",metrics=['accuracy'] )"
   ]
  },
  {
   "cell_type": "code",
   "execution_count": 29,
   "id": "271e2feb",
   "metadata": {},
   "outputs": [
    {
     "name": "stdout",
     "output_type": "stream",
     "text": [
      "Epoch 1/20\n",
      "25/25 [==============================] - 0s 8ms/step - loss: 0.6207 - accuracy: 0.7814 - val_loss: 0.5630 - val_accuracy: 0.8934\n",
      "Epoch 2/20\n",
      "25/25 [==============================] - 0s 6ms/step - loss: 0.4593 - accuracy: 0.8310 - val_loss: 0.5260 - val_accuracy: 0.9239\n",
      "Epoch 3/20\n",
      "25/25 [==============================] - 0s 7ms/step - loss: 0.4714 - accuracy: 0.8399 - val_loss: 0.4889 - val_accuracy: 0.9391\n",
      "Epoch 4/20\n",
      "25/25 [==============================] - 0s 7ms/step - loss: 0.3889 - accuracy: 0.8539 - val_loss: 0.4673 - val_accuracy: 0.8985\n",
      "Epoch 5/20\n",
      "25/25 [==============================] - 0s 6ms/step - loss: 0.3462 - accuracy: 0.8780 - val_loss: 0.4432 - val_accuracy: 0.8782\n",
      "Epoch 6/20\n",
      "25/25 [==============================] - 0s 6ms/step - loss: 0.3590 - accuracy: 0.8831 - val_loss: 0.4203 - val_accuracy: 0.8680\n",
      "Epoch 7/20\n",
      "25/25 [==============================] - 0s 7ms/step - loss: 0.3101 - accuracy: 0.8983 - val_loss: 0.3895 - val_accuracy: 0.8832\n",
      "Epoch 8/20\n",
      "25/25 [==============================] - 0s 7ms/step - loss: 0.3032 - accuracy: 0.8895 - val_loss: 0.3614 - val_accuracy: 0.8934\n",
      "Epoch 9/20\n",
      "25/25 [==============================] - 0s 7ms/step - loss: 0.2274 - accuracy: 0.9225 - val_loss: 0.3310 - val_accuracy: 0.9036\n",
      "Epoch 10/20\n",
      "25/25 [==============================] - 0s 7ms/step - loss: 0.2431 - accuracy: 0.9085 - val_loss: 0.3075 - val_accuracy: 0.9036\n",
      "Epoch 11/20\n",
      "25/25 [==============================] - 0s 8ms/step - loss: 0.2415 - accuracy: 0.9136 - val_loss: 0.2795 - val_accuracy: 0.9340\n",
      "Epoch 12/20\n",
      "25/25 [==============================] - 0s 7ms/step - loss: 0.2361 - accuracy: 0.9174 - val_loss: 0.2682 - val_accuracy: 0.9239\n",
      "Epoch 13/20\n",
      "25/25 [==============================] - 0s 7ms/step - loss: 0.2325 - accuracy: 0.9161 - val_loss: 0.2493 - val_accuracy: 0.9188\n",
      "Epoch 14/20\n",
      "25/25 [==============================] - 0s 7ms/step - loss: 0.2280 - accuracy: 0.9149 - val_loss: 0.2237 - val_accuracy: 0.9289\n",
      "Epoch 15/20\n",
      "25/25 [==============================] - 0s 8ms/step - loss: 0.2161 - accuracy: 0.9212 - val_loss: 0.2178 - val_accuracy: 0.9340\n",
      "Epoch 16/20\n",
      "25/25 [==============================] - 0s 11ms/step - loss: 0.2435 - accuracy: 0.9161 - val_loss: 0.2040 - val_accuracy: 0.9340\n",
      "Epoch 17/20\n",
      "25/25 [==============================] - 0s 8ms/step - loss: 0.2462 - accuracy: 0.9123 - val_loss: 0.1914 - val_accuracy: 0.9289\n",
      "Epoch 18/20\n",
      "25/25 [==============================] - 0s 9ms/step - loss: 0.2025 - accuracy: 0.9276 - val_loss: 0.1878 - val_accuracy: 0.9289\n",
      "Epoch 19/20\n",
      "25/25 [==============================] - 0s 7ms/step - loss: 0.2171 - accuracy: 0.9187 - val_loss: 0.1864 - val_accuracy: 0.9289\n",
      "Epoch 20/20\n",
      "25/25 [==============================] - 0s 13ms/step - loss: 0.2002 - accuracy: 0.9339 - val_loss: 0.1847 - val_accuracy: 0.9289\n"
     ]
    }
   ],
   "source": [
    "history = model.fit(X_train,y_train,epochs=epochs,validation_data=(X_test,y_test),verbose=1)"
   ]
  },
  {
   "cell_type": "code",
   "execution_count": 30,
   "id": "b2cb19bc",
   "metadata": {},
   "outputs": [],
   "source": [
    "# training_accuracy = 0.9339\n",
    "# validation_accuracy = 0.9289\n",
    "#There is some difference in that way we can say our model is overfitting"
   ]
  },
  {
   "cell_type": "code",
   "execution_count": 31,
   "id": "c2528c9e",
   "metadata": {},
   "outputs": [],
   "source": [
    "def plot_learningCurve(history,epoch):\n",
    "    #plot training abd validation accuracy values\n",
    "    epoch_range = range(1,epoch+1)\n",
    "    plt.plot(epoch_range,history.history['accuracy'])\n",
    "    plt.plot(epoch_range,history.history['val_accuracy'])\n",
    "    plt.title('Model accuracy')\n",
    "    plt.ylabel('Accuracy')\n",
    "    plt.xlabel('Epoch')\n",
    "    plt.legend(['Train','val'],loc='upper left')\n",
    "    plt.show()\n",
    "    \n",
    "    #plot training abd validation loss values\n",
    "    epoch_range = range(1,epoch+1)\n",
    "    plt.plot(epoch_range,history.history['loss'])\n",
    "    plt.plot(epoch_range,history.history['val_loss'])\n",
    "    plt.title('Model Loss')\n",
    "    plt.ylabel('Loss')\n",
    "    plt.xlabel('Epoch')\n",
    "    plt.legend(['Train','val'],loc='upper left')\n",
    "    plt.show()\n",
    "    "
   ]
  },
  {
   "cell_type": "code",
   "execution_count": 32,
   "id": "23a6d1eb",
   "metadata": {},
   "outputs": [
    {
     "data": {
      "image/png": "[encoded data removed]",
      "text/plain": [
       "<Figure size 432x288 with 1 Axes>"
      ]
     },
     "metadata": {
      "needs_background": "light"
     },
     "output_type": "display_data"
    },
    {
     "data": {
      "image/png": "[encoded data removed]",
      "text/plain": [
       "<Figure size 432x288 with 1 Axes>"
      ]
     },
     "metadata": {
      "needs_background": "light"
     },
     "output_type": "display_data"
    }
   ],
   "source": [
    "plot_learningCurve(history,epochs)"
   ]
  },
  {
   "cell_type": "markdown",
   "id": "4336d7ba",
   "metadata": {},
   "source": [
    "<h3>Adding MaxPool</h3>"
   ]
  },
  {
   "cell_type": "code",
   "execution_count": 33,
   "id": "b7a8661b",
   "metadata": {},
   "outputs": [],
   "source": [
    "epochs = 50\n",
    "model = Sequential()\n",
    "model.add(Conv1D(32,2,activation='relu',input_shape=X_train[0].shape))\n",
    "model.add(BatchNormalization())\n",
    "model.add(MaxPool1D(2))\n",
    "model.add(Dropout(0.2))\n",
    "\n",
    "model.add(Conv1D(64,2,activation='relu'))\n",
    "model.add(BatchNormalization())\n",
    "model.add(MaxPool1D(2))\n",
    "model.add(Dropout(0.5))\n",
    "\n",
    "model.add(Flatten())\n",
    "model.add(Dense(64,activation='relu'))\n",
    "model.add(Dropout(0.5))\n",
    "\n",
    "model.add(Dense(1,activation='sigmoid'))"
   ]
  },
  {
   "cell_type": "code",
   "execution_count": 34,
   "id": "41205fe5",
   "metadata": {},
   "outputs": [],
   "source": [
    "model.compile(optimizer=Adam(lr=0.0001),loss=\"binary_crossentropy\",metrics=['accuracy'] )"
   ]
  },
  {
   "cell_type": "code",
   "execution_count": 35,
   "id": "5370fe72",
   "metadata": {},
   "outputs": [
    {
     "name": "stdout",
     "output_type": "stream",
     "text": [
      "Epoch 1/50\n",
      "25/25 [==============================] - 0s 18ms/step - loss: 1.1177 - accuracy: 0.5388 - val_loss: 0.6720 - val_accuracy: 0.6853\n",
      "Epoch 2/50\n",
      "25/25 [==============================] - 0s 6ms/step - loss: 0.9323 - accuracy: 0.6302 - val_loss: 0.6472 - val_accuracy: 0.7005\n",
      "Epoch 3/50\n",
      "25/25 [==============================] - 0s 6ms/step - loss: 0.7742 - accuracy: 0.6645 - val_loss: 0.6199 - val_accuracy: 0.7614\n",
      "Epoch 4/50\n",
      "25/25 [==============================] - 0s 6ms/step - loss: 0.7128 - accuracy: 0.6963 - val_loss: 0.5907 - val_accuracy: 0.7716\n",
      "Epoch 5/50\n",
      "25/25 [==============================] - 0s 6ms/step - loss: 0.5724 - accuracy: 0.7421 - val_loss: 0.5617 - val_accuracy: 0.7716\n",
      "Epoch 6/50\n",
      "25/25 [==============================] - 0s 6ms/step - loss: 0.5936 - accuracy: 0.7611 - val_loss: 0.5324 - val_accuracy: 0.7817\n",
      "Epoch 7/50\n",
      "25/25 [==============================] - 0s 6ms/step - loss: 0.5133 - accuracy: 0.7840 - val_loss: 0.5036 - val_accuracy: 0.7919\n",
      "Epoch 8/50\n",
      "25/25 [==============================] - 0s 6ms/step - loss: 0.4608 - accuracy: 0.8107 - val_loss: 0.4751 - val_accuracy: 0.8020\n",
      "Epoch 9/50\n",
      "25/25 [==============================] - 0s 6ms/step - loss: 0.4788 - accuracy: 0.8081 - val_loss: 0.4463 - val_accuracy: 0.8173\n",
      "Epoch 10/50\n",
      "25/25 [==============================] - 0s 6ms/step - loss: 0.4355 - accuracy: 0.8208 - val_loss: 0.4186 - val_accuracy: 0.8223\n",
      "Epoch 11/50\n",
      "25/25 [==============================] - 0s 6ms/step - loss: 0.4438 - accuracy: 0.8196 - val_loss: 0.3929 - val_accuracy: 0.8274\n",
      "Epoch 12/50\n",
      "25/25 [==============================] - 0s 6ms/step - loss: 0.3944 - accuracy: 0.8463 - val_loss: 0.3695 - val_accuracy: 0.8426\n",
      "Epoch 13/50\n",
      "25/25 [==============================] - 0s 6ms/step - loss: 0.4038 - accuracy: 0.8513 - val_loss: 0.3500 - val_accuracy: 0.8477\n",
      "Epoch 14/50\n",
      "25/25 [==============================] - 0s 6ms/step - loss: 0.3957 - accuracy: 0.8551 - val_loss: 0.3329 - val_accuracy: 0.8579\n",
      "Epoch 15/50\n",
      "25/25 [==============================] - 0s 6ms/step - loss: 0.3510 - accuracy: 0.8564 - val_loss: 0.3182 - val_accuracy: 0.8579\n",
      "Epoch 16/50\n",
      "25/25 [==============================] - 0s 6ms/step - loss: 0.3649 - accuracy: 0.8590 - val_loss: 0.3071 - val_accuracy: 0.8629\n",
      "Epoch 17/50\n",
      "25/25 [==============================] - 0s 6ms/step - loss: 0.3692 - accuracy: 0.8615 - val_loss: 0.2996 - val_accuracy: 0.8629\n",
      "Epoch 18/50\n",
      "25/25 [==============================] - 0s 6ms/step - loss: 0.3270 - accuracy: 0.8653 - val_loss: 0.2915 - val_accuracy: 0.8680\n",
      "Epoch 19/50\n",
      "25/25 [==============================] - 0s 6ms/step - loss: 0.3537 - accuracy: 0.8742 - val_loss: 0.2880 - val_accuracy: 0.8731\n",
      "Epoch 20/50\n",
      "25/25 [==============================] - 0s 6ms/step - loss: 0.3182 - accuracy: 0.8869 - val_loss: 0.2843 - val_accuracy: 0.8731\n",
      "Epoch 21/50\n",
      "25/25 [==============================] - 0s 8ms/step - loss: 0.3355 - accuracy: 0.8856 - val_loss: 0.2822 - val_accuracy: 0.8782\n",
      "Epoch 22/50\n",
      "25/25 [==============================] - 0s 7ms/step - loss: 0.3394 - accuracy: 0.8806 - val_loss: 0.2780 - val_accuracy: 0.8832\n",
      "Epoch 23/50\n",
      "25/25 [==============================] - 0s 8ms/step - loss: 0.3052 - accuracy: 0.8933 - val_loss: 0.2758 - val_accuracy: 0.8832\n",
      "Epoch 24/50\n",
      "25/25 [==============================] - 0s 7ms/step - loss: 0.3087 - accuracy: 0.8933 - val_loss: 0.2756 - val_accuracy: 0.8883\n",
      "Epoch 25/50\n",
      "25/25 [==============================] - 0s 9ms/step - loss: 0.3451 - accuracy: 0.8844 - val_loss: 0.2723 - val_accuracy: 0.8883\n",
      "Epoch 26/50\n",
      "25/25 [==============================] - 0s 9ms/step - loss: 0.2779 - accuracy: 0.8907 - val_loss: 0.2698 - val_accuracy: 0.8883\n",
      "Epoch 27/50\n",
      "25/25 [==============================] - 0s 9ms/step - loss: 0.3096 - accuracy: 0.8767 - val_loss: 0.2686 - val_accuracy: 0.8934\n",
      "Epoch 28/50\n",
      "25/25 [==============================] - 0s 13ms/step - loss: 0.3164 - accuracy: 0.8895 - val_loss: 0.2663 - val_accuracy: 0.8985\n",
      "Epoch 29/50\n",
      "25/25 [==============================] - 0s 7ms/step - loss: 0.2765 - accuracy: 0.8996 - val_loss: 0.2672 - val_accuracy: 0.8985\n",
      "Epoch 30/50\n",
      "25/25 [==============================] - 0s 8ms/step - loss: 0.2894 - accuracy: 0.8895 - val_loss: 0.2667 - val_accuracy: 0.8985\n",
      "Epoch 31/50\n",
      "25/25 [==============================] - 0s 7ms/step - loss: 0.3113 - accuracy: 0.8818 - val_loss: 0.2647 - val_accuracy: 0.8985\n",
      "Epoch 32/50\n",
      "25/25 [==============================] - 0s 6ms/step - loss: 0.2742 - accuracy: 0.8996 - val_loss: 0.2624 - val_accuracy: 0.8985\n",
      "Epoch 33/50\n",
      "25/25 [==============================] - 0s 6ms/step - loss: 0.2978 - accuracy: 0.8933 - val_loss: 0.2624 - val_accuracy: 0.8985\n",
      "Epoch 34/50\n",
      "25/25 [==============================] - 0s 6ms/step - loss: 0.2696 - accuracy: 0.9009 - val_loss: 0.2634 - val_accuracy: 0.8985\n",
      "Epoch 35/50\n",
      "25/25 [==============================] - 0s 6ms/step - loss: 0.2571 - accuracy: 0.9098 - val_loss: 0.2601 - val_accuracy: 0.8985\n",
      "Epoch 36/50\n",
      "25/25 [==============================] - 0s 6ms/step - loss: 0.2635 - accuracy: 0.9111 - val_loss: 0.2607 - val_accuracy: 0.8985\n",
      "Epoch 37/50\n",
      "25/25 [==============================] - 0s 6ms/step - loss: 0.2900 - accuracy: 0.8958 - val_loss: 0.2571 - val_accuracy: 0.9036\n",
      "Epoch 38/50\n",
      "25/25 [==============================] - 0s 6ms/step - loss: 0.2786 - accuracy: 0.9022 - val_loss: 0.2567 - val_accuracy: 0.9036\n",
      "Epoch 39/50\n",
      "25/25 [==============================] - 0s 8ms/step - loss: 0.2597 - accuracy: 0.9111 - val_loss: 0.2551 - val_accuracy: 0.9086\n",
      "Epoch 40/50\n",
      "25/25 [==============================] - 0s 10ms/step - loss: 0.2821 - accuracy: 0.8831 - val_loss: 0.2531 - val_accuracy: 0.9137\n",
      "Epoch 41/50\n",
      "25/25 [==============================] - 0s 6ms/step - loss: 0.2583 - accuracy: 0.9009 - val_loss: 0.2515 - val_accuracy: 0.9188\n",
      "Epoch 42/50\n",
      "25/25 [==============================] - 0s 7ms/step - loss: 0.2637 - accuracy: 0.9047 - val_loss: 0.2494 - val_accuracy: 0.9239\n",
      "Epoch 43/50\n",
      "25/25 [==============================] - 0s 7ms/step - loss: 0.2659 - accuracy: 0.8996 - val_loss: 0.2451 - val_accuracy: 0.9188\n",
      "Epoch 44/50\n",
      "25/25 [==============================] - 0s 7ms/step - loss: 0.2830 - accuracy: 0.9034 - val_loss: 0.2443 - val_accuracy: 0.9188\n",
      "Epoch 45/50\n",
      "25/25 [==============================] - 0s 6ms/step - loss: 0.2531 - accuracy: 0.8996 - val_loss: 0.2423 - val_accuracy: 0.9289\n",
      "Epoch 46/50\n",
      "25/25 [==============================] - 0s 6ms/step - loss: 0.2414 - accuracy: 0.9136 - val_loss: 0.2401 - val_accuracy: 0.9340\n",
      "Epoch 47/50\n",
      "25/25 [==============================] - 0s 8ms/step - loss: 0.2386 - accuracy: 0.9060 - val_loss: 0.2397 - val_accuracy: 0.9340\n",
      "Epoch 48/50\n",
      "25/25 [==============================] - 0s 8ms/step - loss: 0.2373 - accuracy: 0.9111 - val_loss: 0.2390 - val_accuracy: 0.9340\n",
      "Epoch 49/50\n",
      "25/25 [==============================] - 0s 9ms/step - loss: 0.2461 - accuracy: 0.9111 - val_loss: 0.2376 - val_accuracy: 0.9340\n",
      "Epoch 50/50\n",
      "25/25 [==============================] - 0s 8ms/step - loss: 0.2262 - accuracy: 0.9085 - val_loss: 0.2380 - val_accuracy: 0.9289\n"
     ]
    }
   ],
   "source": [
    "history = model.fit(X_train,y_train,epochs=epochs,validation_data=(X_test,y_test),verbose=1)"
   ]
  },
  {
   "cell_type": "code",
   "execution_count": 36,
   "id": "6ebb7c65",
   "metadata": {},
   "outputs": [
    {
     "data": {
      "image/png": "[encoded data removed]",
      "text/plain": [
       "<Figure size 432x288 with 1 Axes>"
      ]
     },
     "metadata": {
      "needs_background": "light"
     },
     "output_type": "display_data"
    },
    {
     "data": {
      "image/png": "[encoded data removed]",
      "text/plain": [
       "<Figure size 432x288 with 1 Axes>"
      ]
     },
     "metadata": {
      "needs_background": "light"
     },
     "output_type": "display_data"
    }
   ],
   "source": [
    "plot_learningCurve(history,epochs)"
   ]
  },
  {
   "cell_type": "code",
   "execution_count": null,
   "id": "cc01b13e",
   "metadata": {},
   "outputs": [],
   "source": []
  }
 ],
 "metadata": {
  "kernelspec": {
   "display_name": "Python 3",
   "language": "python",
   "name": "python3"
  },
  "language_info": {
   "codemirror_mode": {
    "name": "ipython",
    "version": 3
   },
   "file_extension": ".py",
   "mimetype": "text/x-python",
   "name": "python",
   "nbconvert_exporter": "python",
   "pygments_lexer": "ipython3",
   "version": "3.8.8"
  }
 },
 "nbformat": 4,
 "nbformat_minor": 5
}
